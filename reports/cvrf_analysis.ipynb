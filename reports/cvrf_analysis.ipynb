{
  "nbformat": 4,
  "nbformat_minor": 0,
  "metadata": {
    "colab": {
      "name": "cvrf_analysis.ipynb",
      "provenance": [],
      "collapsed_sections": [],
      "toc_visible": true,
      "mount_file_id": "1gTX4FSQCcI3i-Fdhdol15sXF_zBSPqmK",
      "authorship_tag": "ABX9TyPA69m57UXAEorGCZ3B6r2W",
      "include_colab_link": true
    },
    "kernelspec": {
      "name": "python3",
      "display_name": "Python 3"
    },
    "language_info": {
      "name": "python"
    }
  },
  "cells": [
    {
      "cell_type": "markdown",
      "metadata": {
        "id": "view-in-github",
        "colab_type": "text"
      },
      "source": [
        "<a href=\"https://colab.research.google.com/github/AntonAIG/cvr_data_analytics/blob/main/reports/cvrf_analysis.ipynb\" target=\"_parent\"><img src=\"https://colab.research.google.com/assets/colab-badge.svg\" alt=\"Open In Colab\"/></a>"
      ]
    },
    {
      "cell_type": "markdown",
      "source": [
        "## Introduction \n",
        "This analysis focuses on identifying the relationships between voltage reduction and changes in power demand. Conservation Voltage Reduction (CVR) factor is the ratio between percentage change in voltage and a percentage change in power.\n",
        "The objective of this report is to determine the CVR factor from the given datasets, and understand the relationships and correlations that exist between the parameters.\n",
        "In other to estimate the benefits of CVR, an evaluation of the measurement results obtained from our testing sites will be carried out so that we can be able to answer the following scientific questions:\n",
        "*   How much power can be saved by implementing CVR?\n",
        "* When is the period of peak power?"
      ],
      "metadata": {
        "id": "RRu1xoGoviKL"
      }
    },
    {
      "cell_type": "markdown",
      "source": [
        "### Table of Contents\n",
        "* Importing packages\n",
        "* Importing datasets\n",
        "* Tap change detection algorithm\n",
        "* Voltage and power analysis\n",
        "* CVR factor computation\n",
        "* Visualizations\n",
        "* Conclusion"
      ],
      "metadata": {
        "id": "eflkfzhGA_Yu"
      }
    },
    {
      "cell_type": "markdown",
      "source": [
        "## Importing packages\n",
        "The packages for this evaluation are standard python libraries such as `numpy`, `pandas`, `matplotlib`, etc"
      ],
      "metadata": {
        "id": "ohT3Rq2r1E5B"
      }
    },
    {
      "cell_type": "code",
      "execution_count": 2,
      "metadata": {
        "id": "3IIIqeIrvH54"
      },
      "outputs": [],
      "source": [
        "import pandas as pd\n",
        "import matplotlib.pyplot as plt\n",
        "import numpy as np\n",
        "import seaborn as sns\n",
        "import plotly.graph_objects as go\n",
        "%matplotlib inline"
      ]
    },
    {
      "cell_type": "code",
      "source": [
        "#CONSTANTS\n",
        "WINDOW = 6"
      ],
      "metadata": {
        "id": "b6Aea2uU4Mfh"
      },
      "execution_count": 3,
      "outputs": []
    },
    {
      "cell_type": "markdown",
      "source": [
        "## Importing datasets\n",
        "The monthly datasets will be imported here, from January to December\n",
        "\n",
        "The monthly values were cleaned and joined in `sql` GCP: BigQuery. Check the sql script [here](https://github.com/AntonAIG/cvr_data_analytics/blob/main/sql_script/sql_ront_2020_union.sql)"
      ],
      "metadata": {
        "id": "APTdlLP0D8hk"
      }
    },
    {
      "cell_type": "code",
      "source": [
        "ront_df = pd.read_csv(\"/content/drive/MyDrive/bq-results-20220201/ront_2020_all.csv\",\n",
        "                      parse_dates=True, index_col='timestamp')\n",
        "ront_df.head()"
      ],
      "metadata": {
        "colab": {
          "base_uri": "https://localhost:8080/",
          "height": 238
        },
        "id": "uQMXlpnlqEEq",
        "outputId": "46f3058a-4b78-479e-b58a-20bc4a8ce4a2"
      },
      "execution_count": 33,
      "outputs": [
        {
          "output_type": "execute_result",
          "data": {
            "text/html": [
              "\n",
              "  <div id=\"df-12b12747-be87-4a88-8f06-1e137e27eab4\">\n",
              "    <div class=\"colab-df-container\">\n",
              "      <div>\n",
              "<style scoped>\n",
              "    .dataframe tbody tr th:only-of-type {\n",
              "        vertical-align: middle;\n",
              "    }\n",
              "\n",
              "    .dataframe tbody tr th {\n",
              "        vertical-align: top;\n",
              "    }\n",
              "\n",
              "    .dataframe thead th {\n",
              "        text-align: right;\n",
              "    }\n",
              "</style>\n",
              "<table border=\"1\" class=\"dataframe\">\n",
              "  <thead>\n",
              "    <tr style=\"text-align: right;\">\n",
              "      <th></th>\n",
              "      <th>P_1</th>\n",
              "      <th>U_1_RMS</th>\n",
              "    </tr>\n",
              "    <tr>\n",
              "      <th>timestamp</th>\n",
              "      <th></th>\n",
              "      <th></th>\n",
              "    </tr>\n",
              "  </thead>\n",
              "  <tbody>\n",
              "    <tr>\n",
              "      <th>2020-01-01 00:00:00+00:00</th>\n",
              "      <td>27.274170</td>\n",
              "      <td>229.295000</td>\n",
              "    </tr>\n",
              "    <tr>\n",
              "      <th>2020-01-01 00:00:00+00:00</th>\n",
              "      <td>27.291255</td>\n",
              "      <td>229.488750</td>\n",
              "    </tr>\n",
              "    <tr>\n",
              "      <th>2020-01-01 00:00:00+00:00</th>\n",
              "      <td>27.159150</td>\n",
              "      <td>229.195625</td>\n",
              "    </tr>\n",
              "    <tr>\n",
              "      <th>2020-01-01 00:00:00+00:00</th>\n",
              "      <td>32.075200</td>\n",
              "      <td>229.608125</td>\n",
              "    </tr>\n",
              "    <tr>\n",
              "      <th>2020-01-01 00:00:00+00:00</th>\n",
              "      <td>27.058585</td>\n",
              "      <td>229.116250</td>\n",
              "    </tr>\n",
              "  </tbody>\n",
              "</table>\n",
              "</div>\n",
              "      <button class=\"colab-df-convert\" onclick=\"convertToInteractive('df-12b12747-be87-4a88-8f06-1e137e27eab4')\"\n",
              "              title=\"Convert this dataframe to an interactive table.\"\n",
              "              style=\"display:none;\">\n",
              "        \n",
              "  <svg xmlns=\"http://www.w3.org/2000/svg\" height=\"24px\"viewBox=\"0 0 24 24\"\n",
              "       width=\"24px\">\n",
              "    <path d=\"M0 0h24v24H0V0z\" fill=\"none\"/>\n",
              "    <path d=\"M18.56 5.44l.94 2.06.94-2.06 2.06-.94-2.06-.94-.94-2.06-.94 2.06-2.06.94zm-11 1L8.5 8.5l.94-2.06 2.06-.94-2.06-.94L8.5 2.5l-.94 2.06-2.06.94zm10 10l.94 2.06.94-2.06 2.06-.94-2.06-.94-.94-2.06-.94 2.06-2.06.94z\"/><path d=\"M17.41 7.96l-1.37-1.37c-.4-.4-.92-.59-1.43-.59-.52 0-1.04.2-1.43.59L10.3 9.45l-7.72 7.72c-.78.78-.78 2.05 0 2.83L4 21.41c.39.39.9.59 1.41.59.51 0 1.02-.2 1.41-.59l7.78-7.78 2.81-2.81c.8-.78.8-2.07 0-2.86zM5.41 20L4 18.59l7.72-7.72 1.47 1.35L5.41 20z\"/>\n",
              "  </svg>\n",
              "      </button>\n",
              "      \n",
              "  <style>\n",
              "    .colab-df-container {\n",
              "      display:flex;\n",
              "      flex-wrap:wrap;\n",
              "      gap: 12px;\n",
              "    }\n",
              "\n",
              "    .colab-df-convert {\n",
              "      background-color: #E8F0FE;\n",
              "      border: none;\n",
              "      border-radius: 50%;\n",
              "      cursor: pointer;\n",
              "      display: none;\n",
              "      fill: #1967D2;\n",
              "      height: 32px;\n",
              "      padding: 0 0 0 0;\n",
              "      width: 32px;\n",
              "    }\n",
              "\n",
              "    .colab-df-convert:hover {\n",
              "      background-color: #E2EBFA;\n",
              "      box-shadow: 0px 1px 2px rgba(60, 64, 67, 0.3), 0px 1px 3px 1px rgba(60, 64, 67, 0.15);\n",
              "      fill: #174EA6;\n",
              "    }\n",
              "\n",
              "    [theme=dark] .colab-df-convert {\n",
              "      background-color: #3B4455;\n",
              "      fill: #D2E3FC;\n",
              "    }\n",
              "\n",
              "    [theme=dark] .colab-df-convert:hover {\n",
              "      background-color: #434B5C;\n",
              "      box-shadow: 0px 1px 3px 1px rgba(0, 0, 0, 0.15);\n",
              "      filter: drop-shadow(0px 1px 2px rgba(0, 0, 0, 0.3));\n",
              "      fill: #FFFFFF;\n",
              "    }\n",
              "  </style>\n",
              "\n",
              "      <script>\n",
              "        const buttonEl =\n",
              "          document.querySelector('#df-12b12747-be87-4a88-8f06-1e137e27eab4 button.colab-df-convert');\n",
              "        buttonEl.style.display =\n",
              "          google.colab.kernel.accessAllowed ? 'block' : 'none';\n",
              "\n",
              "        async function convertToInteractive(key) {\n",
              "          const element = document.querySelector('#df-12b12747-be87-4a88-8f06-1e137e27eab4');\n",
              "          const dataTable =\n",
              "            await google.colab.kernel.invokeFunction('convertToInteractive',\n",
              "                                                     [key], {});\n",
              "          if (!dataTable) return;\n",
              "\n",
              "          const docLinkHtml = 'Like what you see? Visit the ' +\n",
              "            '<a target=\"_blank\" href=https://colab.research.google.com/notebooks/data_table.ipynb>data table notebook</a>'\n",
              "            + ' to learn more about interactive tables.';\n",
              "          element.innerHTML = '';\n",
              "          dataTable['output_type'] = 'display_data';\n",
              "          await google.colab.output.renderOutput(dataTable, element);\n",
              "          const docLink = document.createElement('div');\n",
              "          docLink.innerHTML = docLinkHtml;\n",
              "          element.appendChild(docLink);\n",
              "        }\n",
              "      </script>\n",
              "    </div>\n",
              "  </div>\n",
              "  "
            ],
            "text/plain": [
              "                                 P_1     U_1_RMS\n",
              "timestamp                                       \n",
              "2020-01-01 00:00:00+00:00  27.274170  229.295000\n",
              "2020-01-01 00:00:00+00:00  27.291255  229.488750\n",
              "2020-01-01 00:00:00+00:00  27.159150  229.195625\n",
              "2020-01-01 00:00:00+00:00  32.075200  229.608125\n",
              "2020-01-01 00:00:00+00:00  27.058585  229.116250"
            ]
          },
          "metadata": {},
          "execution_count": 33
        }
      ]
    },
    {
      "cell_type": "code",
      "source": [
        "# create a list of all the parameters: P and U\n",
        "P = ront_df['P_1']\n",
        "U = ront_df['U_1_RMS']\n",
        "t = ront_df.index"
      ],
      "metadata": {
        "id": "HneDguzvthGh"
      },
      "execution_count": 34,
      "outputs": []
    },
    {
      "cell_type": "markdown",
      "source": [
        "### Summary statistics\n",
        "A closer look at the data shows can be performed as follows:"
      ],
      "metadata": {
        "id": "3euCVWD0_-2B"
      }
    },
    {
      "cell_type": "code",
      "source": [
        "## pandas summary\n",
        "ront_df.info()"
      ],
      "metadata": {
        "colab": {
          "base_uri": "https://localhost:8080/"
        },
        "id": "pklIPVhZAMk6",
        "outputId": "8b628b40-4e30-4820-f1d2-58c091422147"
      },
      "execution_count": 35,
      "outputs": [
        {
          "output_type": "stream",
          "name": "stdout",
          "text": [
            "<class 'pandas.core.frame.DataFrame'>\n",
            "DatetimeIndex: 2826953 entries, 2020-01-01 00:00:00+00:00 to 2020-12-31 23:59:00+00:00\n",
            "Data columns (total 2 columns):\n",
            " #   Column   Dtype  \n",
            "---  ------   -----  \n",
            " 0   P_1      float64\n",
            " 1   U_1_RMS  float64\n",
            "dtypes: float64(2)\n",
            "memory usage: 64.7 MB\n"
          ]
        }
      ]
    },
    {
      "cell_type": "code",
      "source": [
        "# average value of voltage changes\n",
        "ront_df.describe()"
      ],
      "metadata": {
        "colab": {
          "base_uri": "https://localhost:8080/",
          "height": 300
        },
        "id": "TKijBiMHL8h9",
        "outputId": "3a5be55b-f5d9-46e2-9362-18a39551a65e"
      },
      "execution_count": 36,
      "outputs": [
        {
          "output_type": "execute_result",
          "data": {
            "text/html": [
              "\n",
              "  <div id=\"df-535ea6ea-f786-4774-bda9-79687f854112\">\n",
              "    <div class=\"colab-df-container\">\n",
              "      <div>\n",
              "<style scoped>\n",
              "    .dataframe tbody tr th:only-of-type {\n",
              "        vertical-align: middle;\n",
              "    }\n",
              "\n",
              "    .dataframe tbody tr th {\n",
              "        vertical-align: top;\n",
              "    }\n",
              "\n",
              "    .dataframe thead th {\n",
              "        text-align: right;\n",
              "    }\n",
              "</style>\n",
              "<table border=\"1\" class=\"dataframe\">\n",
              "  <thead>\n",
              "    <tr style=\"text-align: right;\">\n",
              "      <th></th>\n",
              "      <th>P_1</th>\n",
              "      <th>U_1_RMS</th>\n",
              "    </tr>\n",
              "  </thead>\n",
              "  <tbody>\n",
              "    <tr>\n",
              "      <th>count</th>\n",
              "      <td>2.826953e+06</td>\n",
              "      <td>2.826953e+06</td>\n",
              "    </tr>\n",
              "    <tr>\n",
              "      <th>mean</th>\n",
              "      <td>1.157283e+01</td>\n",
              "      <td>2.266446e+02</td>\n",
              "    </tr>\n",
              "    <tr>\n",
              "      <th>std</th>\n",
              "      <td>1.111502e+01</td>\n",
              "      <td>2.162906e+00</td>\n",
              "    </tr>\n",
              "    <tr>\n",
              "      <th>min</th>\n",
              "      <td>-3.403899e+01</td>\n",
              "      <td>0.000000e+00</td>\n",
              "    </tr>\n",
              "    <tr>\n",
              "      <th>25%</th>\n",
              "      <td>5.462815e+00</td>\n",
              "      <td>2.249944e+02</td>\n",
              "    </tr>\n",
              "    <tr>\n",
              "      <th>50%</th>\n",
              "      <td>1.210604e+01</td>\n",
              "      <td>2.271208e+02</td>\n",
              "    </tr>\n",
              "    <tr>\n",
              "      <th>75%</th>\n",
              "      <td>1.895172e+01</td>\n",
              "      <td>2.282273e+02</td>\n",
              "    </tr>\n",
              "    <tr>\n",
              "      <th>max</th>\n",
              "      <td>5.963310e+01</td>\n",
              "      <td>2.368262e+02</td>\n",
              "    </tr>\n",
              "  </tbody>\n",
              "</table>\n",
              "</div>\n",
              "      <button class=\"colab-df-convert\" onclick=\"convertToInteractive('df-535ea6ea-f786-4774-bda9-79687f854112')\"\n",
              "              title=\"Convert this dataframe to an interactive table.\"\n",
              "              style=\"display:none;\">\n",
              "        \n",
              "  <svg xmlns=\"http://www.w3.org/2000/svg\" height=\"24px\"viewBox=\"0 0 24 24\"\n",
              "       width=\"24px\">\n",
              "    <path d=\"M0 0h24v24H0V0z\" fill=\"none\"/>\n",
              "    <path d=\"M18.56 5.44l.94 2.06.94-2.06 2.06-.94-2.06-.94-.94-2.06-.94 2.06-2.06.94zm-11 1L8.5 8.5l.94-2.06 2.06-.94-2.06-.94L8.5 2.5l-.94 2.06-2.06.94zm10 10l.94 2.06.94-2.06 2.06-.94-2.06-.94-.94-2.06-.94 2.06-2.06.94z\"/><path d=\"M17.41 7.96l-1.37-1.37c-.4-.4-.92-.59-1.43-.59-.52 0-1.04.2-1.43.59L10.3 9.45l-7.72 7.72c-.78.78-.78 2.05 0 2.83L4 21.41c.39.39.9.59 1.41.59.51 0 1.02-.2 1.41-.59l7.78-7.78 2.81-2.81c.8-.78.8-2.07 0-2.86zM5.41 20L4 18.59l7.72-7.72 1.47 1.35L5.41 20z\"/>\n",
              "  </svg>\n",
              "      </button>\n",
              "      \n",
              "  <style>\n",
              "    .colab-df-container {\n",
              "      display:flex;\n",
              "      flex-wrap:wrap;\n",
              "      gap: 12px;\n",
              "    }\n",
              "\n",
              "    .colab-df-convert {\n",
              "      background-color: #E8F0FE;\n",
              "      border: none;\n",
              "      border-radius: 50%;\n",
              "      cursor: pointer;\n",
              "      display: none;\n",
              "      fill: #1967D2;\n",
              "      height: 32px;\n",
              "      padding: 0 0 0 0;\n",
              "      width: 32px;\n",
              "    }\n",
              "\n",
              "    .colab-df-convert:hover {\n",
              "      background-color: #E2EBFA;\n",
              "      box-shadow: 0px 1px 2px rgba(60, 64, 67, 0.3), 0px 1px 3px 1px rgba(60, 64, 67, 0.15);\n",
              "      fill: #174EA6;\n",
              "    }\n",
              "\n",
              "    [theme=dark] .colab-df-convert {\n",
              "      background-color: #3B4455;\n",
              "      fill: #D2E3FC;\n",
              "    }\n",
              "\n",
              "    [theme=dark] .colab-df-convert:hover {\n",
              "      background-color: #434B5C;\n",
              "      box-shadow: 0px 1px 3px 1px rgba(0, 0, 0, 0.15);\n",
              "      filter: drop-shadow(0px 1px 2px rgba(0, 0, 0, 0.3));\n",
              "      fill: #FFFFFF;\n",
              "    }\n",
              "  </style>\n",
              "\n",
              "      <script>\n",
              "        const buttonEl =\n",
              "          document.querySelector('#df-535ea6ea-f786-4774-bda9-79687f854112 button.colab-df-convert');\n",
              "        buttonEl.style.display =\n",
              "          google.colab.kernel.accessAllowed ? 'block' : 'none';\n",
              "\n",
              "        async function convertToInteractive(key) {\n",
              "          const element = document.querySelector('#df-535ea6ea-f786-4774-bda9-79687f854112');\n",
              "          const dataTable =\n",
              "            await google.colab.kernel.invokeFunction('convertToInteractive',\n",
              "                                                     [key], {});\n",
              "          if (!dataTable) return;\n",
              "\n",
              "          const docLinkHtml = 'Like what you see? Visit the ' +\n",
              "            '<a target=\"_blank\" href=https://colab.research.google.com/notebooks/data_table.ipynb>data table notebook</a>'\n",
              "            + ' to learn more about interactive tables.';\n",
              "          element.innerHTML = '';\n",
              "          dataTable['output_type'] = 'display_data';\n",
              "          await google.colab.output.renderOutput(dataTable, element);\n",
              "          const docLink = document.createElement('div');\n",
              "          docLink.innerHTML = docLinkHtml;\n",
              "          element.appendChild(docLink);\n",
              "        }\n",
              "      </script>\n",
              "    </div>\n",
              "  </div>\n",
              "  "
            ],
            "text/plain": [
              "                P_1       U_1_RMS\n",
              "count  2.826953e+06  2.826953e+06\n",
              "mean   1.157283e+01  2.266446e+02\n",
              "std    1.111502e+01  2.162906e+00\n",
              "min   -3.403899e+01  0.000000e+00\n",
              "25%    5.462815e+00  2.249944e+02\n",
              "50%    1.210604e+01  2.271208e+02\n",
              "75%    1.895172e+01  2.282273e+02\n",
              "max    5.963310e+01  2.368262e+02"
            ]
          },
          "metadata": {},
          "execution_count": 36
        }
      ]
    },
    {
      "cell_type": "markdown",
      "source": [
        "The table above shows that:\n",
        "* The average voltage level is at 226.64V, this value is within the expected interval for the German distribution network.\n",
        "* The maximum voltage value is within the +10% voltage threshold for a distribution network. Thus, there are no upper threshold voltage violations.\n",
        "* The lower voltage band is at 0 while the expected limit is -10% of 226.64V\n",
        "Therefore, we have to filter out the data points that didn't meet up with this limit"
      ],
      "metadata": {
        "id": "HzVq1Jm0xgn_"
      }
    },
    {
      "cell_type": "code",
      "source": [
        "violation_index = []\n",
        "for i in range(len(U)):\n",
        "  if U[i] < (226.64 - (226.64*0.1)):\n",
        "    violation_index.append(i)\n",
        "  else:\n",
        "    i+=1"
      ],
      "metadata": {
        "id": "2zQGMH5mzCuf"
      },
      "execution_count": 37,
      "outputs": []
    },
    {
      "cell_type": "code",
      "source": [
        "print(ront_df.iloc[violation_index])"
      ],
      "metadata": {
        "colab": {
          "base_uri": "https://localhost:8080/"
        },
        "id": "gVk75Yv50tPm",
        "outputId": "a182e8e8-035e-4ddc-e6fa-dafbc41f0d4b"
      },
      "execution_count": 38,
      "outputs": [
        {
          "output_type": "stream",
          "name": "stdout",
          "text": [
            "                                P_1  U_1_RMS\n",
            "timestamp                                   \n",
            "2020-06-10 12:08:00+00:00  11.95752      0.0\n"
          ]
        }
      ]
    },
    {
      "cell_type": "markdown",
      "source": [
        "There was only one violation at the time shown above. We can delete this time in the dataframe"
      ],
      "metadata": {
        "id": "y605zqIK06Bt"
      }
    },
    {
      "cell_type": "code",
      "source": [
        "ront_df.drop(index=ront_df.iloc[violation_index].index.tolist(), inplace=True)"
      ],
      "metadata": {
        "id": "NTX2ZIIm1D14"
      },
      "execution_count": 39,
      "outputs": []
    },
    {
      "cell_type": "markdown",
      "source": [
        "Function below extracts the hours for each datetime so that we can create time-of-day (**TOD**) groups. This is neccessary because we want to find out the CVR factors in various TOD. They are partitioned as follows:\n",
        "* tg1 = 16:00 - 22:00\n",
        "* tg2 = 22:00 - 04:00\n",
        "* tg3 = 04:00 - 10:00\n",
        "* tg4 = 10:00 - 16:00\n",
        "\n",
        "The solar yield in tg4 is the most, therefore we want to isolate its impact on the CVR factor estimation. This is because load demand reduction during this period will always be influenced by PV production."
      ],
      "metadata": {
        "id": "UWOe_XtpwrR7"
      }
    },
    {
      "cell_type": "code",
      "execution_count": 40,
      "metadata": {
        "id": "bEo6HxSYv97N"
      },
      "outputs": [],
      "source": [
        "def n_time(index):\n",
        "    date_time = t[index]\n",
        "    hr = date_time.hour\n",
        "    return hr"
      ]
    },
    {
      "cell_type": "markdown",
      "source": [
        "## Tap Change detection algorithm\n",
        "A tap change occures when the voltage difference between two points is more than 1.7%. For a nominal voltage setpoint of 230V, this evaluates to 4V.\n",
        "as shown bellow:\n",
        "\n",
        "![tapchange_detection.JPG](data:image/jpeg;base64,/9j/4AAQSkZJRgABAQEAYABgAAD/4RDoRXhpZgAATU0AKgAAAAgABAE7AAIAAAAKAAAISodpAAQAAAABAAAIVJydAAEAAAAUAAAQzOocAAcAAAgMAAAAPgAAAAAc6gAAAAgAAAAAAAAAAAAAAAAAAAAAAAAAAAAAAAAAAAAAAAAAAAAAAAAAAAAAAAAAAAAAAAAAAAAAAAAAAAAAAAAAAAAAAAAAAAAAAAAAAAAAAAAAAAAAAAAAAAAAAAAAAAAAAAAAAAAAAAAAAAAAAAAAAAAAAAAAAAAAAAAAAAAAAAAAAAAAAAAAAAAAAAAAAAAAAAAAAAAAAAAAAAAAAAAAAAAAAAAAAAAAAAAAAAAAAAAAAAAAAAAAAAAAAAAAAAAAAAAAAAAAAAAAAAAAAAAAAAAAAAAAAAAAAAAAAAAAAAAAAAAAAAAAAAAAAAAAAAAAAAAAAAAAAAAAAAAAAAAAAAAAAAAAAAAAAAAAAAAAAAAAAAAAAAAAAAAAAAAAAAAAAAAAAAAAAAAAAAAAAAAAAAAAAAAAAAAAAAAAAAAAAAAAAAAAAAAAAAAAAAAAAAAAAAAAAAAAAAAAAAAAAAAAAAAAAAAAAAAAAAAAAAAAAAAAAAAAAAAAAAAAAAAAAAAAAAAAAAAAAAAAAAAAAAAAAAAAAAAAAAAAAAAAAAAAAAAAAAAAAAAAAAAAAAAAAAAAAAAAAAAAAAAAAAAAAAAAAAAAAAAAAAAAAAAAAAAAAAAAAAAAAAAAAAAAAAAAAAAAAAAAAAAAAAAAAAAAAAAAAAAAAAAAAAAAAAAAAAAAAAAAAAAAAAAAAAAAAAAAAAAAAAAAAAAAAAAAAAAAAAAAAAAAAAAAAAAAAAAAAAAAAAAAAAAAAAAAAAAAAAAAAAAAAAAAAAAAAAAAAAAAAAAAAAAAAAAAAAAAAAAAAAAAAAAAAAAAAAAAAAAAAAAAAAAAAAAAAAAAAAAAAAAAAAAAAAAAAAAAAAAAAAAAAAAAAAAAAAAAAAAAAAAAAAAAAAAAAAAAAAAAAAAAAAAAAAAAAAAAAAAAAAAAAAAAAAAAAAAAAAAAAAAAAAAAAAAAAAAAAAAAAAAAAAAAAAAAAAAAAAAAAAAAAAAAAAAAAAAAAAAAAAAAAAAAAAAAAAAAAAAAAAAAAAAAAAAAAAAAAAAAAAAAAAAAAAAAAAAAAAAAAAAAAAAAAAAAAAAAAAAAAAAAAAAAAAAAAAAAAAAAAAAAAAAAAAAAAAAAAAAAAAAAAAAAAAAAAAAAAAAAAAAAAAAAAAAAAAAAAAAAAAAAAAAAAAAAAAAAAAAAAAAAAAAAAAAAAAAAAAAAAAAAAAAAAAAAAAAAAAAAAAAAAAAAAAAAAAAAAAAAAAAAAAAAAAAAAAAAAAAAAAAAAAAAAAAAAAAAAAAAAAAAAAAAAAAAAAAAAAAAAAAAAAAAAAAAAAAAAAAAAAAAAAAAAAAAAAAAAAAAAAAAAAAAAAAAAAAAAAAAAAAAAAAAAAAAAAAAAAAAAAAAAAAAAAAAAAAAAAAAAAAAAAAAAAAAAAAAAAAAAAAAAAAAAAAAAAAAAAAAAAAAAAAAAAAAAAAAAAAAAAAAAAAAAAAAAAAAAAAAAAAAAAAAAAAAAAAAAAAAAAAAAAAAAAAAAAAAAAAAAAAAAAAAAAAAAAAAAAAAAAAAAAAAAAAAAAAAAAAAAAAAAAAAAAAAAAAAAAAAAAAAAAAAAAAAAAAAAAAAAAAAAAAAAAAAAAAAAAAAAAAAAAAAAAAAAAAAAAAAAAAAAAAAAAAAAAAAAAAAAAAAAAAAAAAAAAAAAAAAAAAAAAAAAAAAAAAAAAAAAAAAAAAAAAAAAAAAAAAAAAAAAAAAAAAAAAAAAAAAAAAAAAAAAAAAAAAAAAAAAAAAAAAAAAAAAAAAAAAAAAAAAAAAAAAAAAAAAAAAAAAAAAAAAAAAAAAAAAAAAAAAAAAAAAAAAAAAAAAAAAAAAAAAAAAAAAAAAAAAAAAAAAAAAAAAAAAAAAAAAAAAAAAAAAAAAAAAAAAAAAAAAAAAAAAAAAAAAAAAAAAAAAAAAAAAAAAAAAAAAAAAAAAAAAAAAAAAAAAAAAAAAAAAAAAAAAAAAAAAAAAAAAAAAAAAAAAAAAAAAAAAAAAAAAAAAAAAAAAAAAAAAAAAAAAAAAAAAAAAAAAAAAAAAAAAAAAAAAAAAAAAAAAAAAAAAAAAAAAAAAAAAAAAAAAAAAAAAAAAAAAAAAAAAAAAAAAAAAAAAAAAAAAAAAAAAAAAAAAAAAAAAAAAAAAAAAAAAAAAAAAAAAAAAAAAAAAAAAAAAAAAAAAAAAAAAAAAAAAAAAAAAAAAAAAAAAAAAAAAAAAAAAAAAAAAAAAAAAAAAAAAAAAAAAAAAAAAAAAAAAAAAAAAAAAAAAAAAAAAAAAAAAAAAAAAAAAAAAAAAAAAAAAAAAAAAAAAAAAAAAAAAAAAAAAAAAAAAAAAAAAAAAAAAAAAAAAAAAAAAAAAAAAAAAAAAAAAAAAAAAAAAAAAAAAAAAAAAAAAAAAAAAAAAAAAAAAAAAAAAAAAAAAAAAAAAAAAAAAAAAAAAAAAAAAAAAAAAAAAAAAAAAAAAAAAAAAAAAAAAAAAAAAAAAAAAAAAAAAAAAAAAAAAAAAAAAAAAAAAAAAAAAAAAAAAAAAAAAAAAAAAAAAAAAAAAAAAAAAAAAAAAAAAAAAAAAAAAAAAAAAAAAAAAAAAAAAAAAAAAAAAAAAAAAAAAAAAAAAAAAAAAAAAAAAAAAAAAAAAAAAAAAAAAAAAAAAAAAAAAAAAAAAAAAAAAAAAAAAAAAAAAAAAAAAAAAAAAAAAAAAAAAAAAAAAAAAAAAAAAAAAAAAAAAAAAAAAAGFudG9uX2FpZwAABZADAAIAAAAUAAAQopAEAAIAAAAUAAAQtpKRAAIAAAADNDcAAJKSAAIAAAADNDcAAOocAAcAAAgMAAAIlgAAAAAc6gAAAAgAAAAAAAAAAAAAAAAAAAAAAAAAAAAAAAAAAAAAAAAAAAAAAAAAAAAAAAAAAAAAAAAAAAAAAAAAAAAAAAAAAAAAAAAAAAAAAAAAAAAAAAAAAAAAAAAAAAAAAAAAAAAAAAAAAAAAAAAAAAAAAAAAAAAAAAAAAAAAAAAAAAAAAAAAAAAAAAAAAAAAAAAAAAAAAAAAAAAAAAAAAAAAAAAAAAAAAAAAAAAAAAAAAAAAAAAAAAAAAAAAAAAAAAAAAAAAAAAAAAAAAAAAAAAAAAAAAAAAAAAAAAAAAAAAAAAAAAAAAAAAAAAAAAAAAAAAAAAAAAAAAAAAAAAAAAAAAAAAAAAAAAAAAAAAAAAAAAAAAAAAAAAAAAAAAAAAAAAAAAAAAAAAAAAAAAAAAAAAAAAAAAAAAAAAAAAAAAAAAAAAAAAAAAAAAAAAAAAAAAAAAAAAAAAAAAAAAAAAAAAAAAAAAAAAAAAAAAAAAAAAAAAAAAAAAAAAAAAAAAAAAAAAAAAAAAAAAAAAAAAAAAAAAAAAAAAAAAAAAAAAAAAAAAAAAAAAAAAAAAAAAAAAAAAAAAAAAAAAAAAAAAAAAAAAAAAAAAAAAAAAAAAAAAAAAAAAAAAAAAAAAAAAAAAAAAAAAAAAAAAAAAAAAAAAAAAAAAAAAAAAAAAAAAAAAAAAAAAAAAAAAAAAAAAAAAAAAAAAAAAAAAAAAAAAAAAAAAAAAAAAAAAAAAAAAAAAAAAAAAAAAAAAAAAAAAAAAAAAAAAAAAAAAAAAAAAAAAAAAAAAAAAAAAAAAAAAAAAAAAAAAAAAAAAAAAAAAAAAAAAAAAAAAAAAAAAAAAAAAAAAAAAAAAAAAAAAAAAAAAAAAAAAAAAAAAAAAAAAAAAAAAAAAAAAAAAAAAAAAAAAAAAAAAAAAAAAAAAAAAAAAAAAAAAAAAAAAAAAAAAAAAAAAAAAAAAAAAAAAAAAAAAAAAAAAAAAAAAAAAAAAAAAAAAAAAAAAAAAAAAAAAAAAAAAAAAAAAAAAAAAAAAAAAAAAAAAAAAAAAAAAAAAAAAAAAAAAAAAAAAAAAAAAAAAAAAAAAAAAAAAAAAAAAAAAAAAAAAAAAAAAAAAAAAAAAAAAAAAAAAAAAAAAAAAAAAAAAAAAAAAAAAAAAAAAAAAAAAAAAAAAAAAAAAAAAAAAAAAAAAAAAAAAAAAAAAAAAAAAAAAAAAAAAAAAAAAAAAAAAAAAAAAAAAAAAAAAAAAAAAAAAAAAAAAAAAAAAAAAAAAAAAAAAAAAAAAAAAAAAAAAAAAAAAAAAAAAAAAAAAAAAAAAAAAAAAAAAAAAAAAAAAAAAAAAAAAAAAAAAAAAAAAAAAAAAAAAAAAAAAAAAAAAAAAAAAAAAAAAAAAAAAAAAAAAAAAAAAAAAAAAAAAAAAAAAAAAAAAAAAAAAAAAAAAAAAAAAAAAAAAAAAAAAAAAAAAAAAAAAAAAAAAAAAAAAAAAAAAAAAAAAAAAAAAAAAAAAAAAAAAAAAAAAAAAAAAAAAAAAAAAAAAAAAAAAAAAAAAAAAAAAAAAAAAAAAAAAAAAAAAAAAAAAAAAAAAAAAAAAAAAAAAAAAAAAAAAAAAAAAAAAAAAAAAAAAAAAAAAAAAAAAAAAAAAAAAAAAAAAAAAAAAAAAAAAAAAAAAAAAAAAAAAAAAAAAAAAAAAAAAAAAAAAAAAAAAAAAAAAAAAAAAAAAAAAAAAAAAAAAAAAAAAAAAAAAAAAAAAAAAAAAAAAAAAAAAAAAAAAAAAAAAAAAAAAAAAAAAAAAAAAAAAAAAAAAAAAAAAAAAAAAAAAAAAAAAAAAAAAAAAAAAAAAAAAAAAAAAAAAAAAAAAAAAAAAAAAAAAAAAAAAAAAAAAAAAAAAAAAAAAAAAAAAAAAAAAAAAAAAAAAAAAAAAAAAAAAAAAAAAAAAAAAAAAAAAAAAAAAAAAAAAAAAAAAAAAAAAAAAAAAAAAAAAAAAAAAAAAAAAAAAAAAAAAAAAAAAAAAAAAAAAAAAAAAAAAAAAAAAAAAAAAAAAAAAAAAAAAAAAAAAAAAAAAAAAAAAAAAAAAAAAAAAAAAAAAAAAAAAAAAAAAAAAAAAAAAAAAAAAAAAAAAAAAAAAAAAAAAAAAAAAAAAAAAAAAAAAAAAAAAAAAAAAAAAAAAAAAAAAAAAAAAAAAAAAAAAAAAAAAAAAAAAAAAAAAAAAAAAAAAAAAAAAAAAAAAAAAAAAAAAAAAAAAAAAAAAAAAAAAAAAAAAAAAAAAAAAAAAAAAAAAAAAAAAAAAAAAAAAAAAAAAAAAAAAAAAAAAAAAAAAAAAAAAAAAAAAAAAAAAAAAAAAAAAAAAAAAAAAAAAAAAAAAAAAAAAAAAAAAAAAAAAAAAAAAAAAAAAAAAAAAAAAAAAAAAAAAAAAAAAAAAAAAAAAAAAAAAAAAAAAAAAAAAAAAAAAAAAAAAAAAAAAAAAAAAAAAAAAAAAAAAAAAAAAAAAAAAAAAAAAAAAAAAAAAAAAAAAAAAAAAAAAAAAAAAAAAAAAAAAAAAAAAAAAAAAAAAAAAAAAAAAAAAAAAAAAAAAAAAAAAAAAAAAAAAAAAAAAAAAAAAAAAAAAAAAAAAAAAAAAAAAAAAAAAAAAAAAAAAAAAAAAAAAAAAAAAAAAAAAAAAAAAAAAAAAAAAAAAAAAAAAAAAAAAAAAAAAAAAAAAAAAAAAAAAAAAAAAAAAAAAAAAAAAAAAAAAAAAAAAAAAAAAAAAAAAADIwMjI6MDI6MDEgMTE6MjI6MjcAMjAyMjowMjowMSAxMToyMjoyNwAAAGEAbgB0AG8AbgBfAGEAaQBnAAAA/+ELHGh0dHA6Ly9ucy5hZG9iZS5jb20veGFwLzEuMC8APD94cGFja2V0IGJlZ2luPSfvu78nIGlkPSdXNU0wTXBDZWhpSHpyZVN6TlRjemtjOWQnPz4NCjx4OnhtcG1ldGEgeG1sbnM6eD0iYWRvYmU6bnM6bWV0YS8iPjxyZGY6UkRGIHhtbG5zOnJkZj0iaHR0cDovL3d3dy53My5vcmcvMTk5OS8wMi8yMi1yZGYtc3ludGF4LW5zIyI+PHJkZjpEZXNjcmlwdGlvbiByZGY6YWJvdXQ9InV1aWQ6ZmFmNWJkZDUtYmEzZC0xMWRhLWFkMzEtZDMzZDc1MTgyZjFiIiB4bWxuczpkYz0iaHR0cDovL3B1cmwub3JnL2RjL2VsZW1lbnRzLzEuMS8iLz48cmRmOkRlc2NyaXB0aW9uIHJkZjphYm91dD0idXVpZDpmYWY1YmRkNS1iYTNkLTExZGEtYWQzMS1kMzNkNzUxODJmMWIiIHhtbG5zOnhtcD0iaHR0cDovL25zLmFkb2JlLmNvbS94YXAvMS4wLyI+PHhtcDpDcmVhdGVEYXRlPjIwMjItMDItMDFUMTE6MjI6MjcuNDczPC94bXA6Q3JlYXRlRGF0ZT48L3JkZjpEZXNjcmlwdGlvbj48cmRmOkRlc2NyaXB0aW9uIHJkZjphYm91dD0idXVpZDpmYWY1YmRkNS1iYTNkLTExZGEtYWQzMS1kMzNkNzUxODJmMWIiIHhtbG5zOmRjPSJodHRwOi8vcHVybC5vcmcvZGMvZWxlbWVudHMvMS4xLyI+PGRjOmNyZWF0b3I+PHJkZjpTZXEgeG1sbnM6cmRmPSJodHRwOi8vd3d3LnczLm9yZy8xOTk5LzAyLzIyLXJkZi1zeW50YXgtbnMjIj48cmRmOmxpPmFudG9uX2FpZzwvcmRmOmxpPjwvcmRmOlNlcT4NCgkJCTwvZGM6Y3JlYXRvcj48L3JkZjpEZXNjcmlwdGlvbj48L3JkZjpSREY+PC94OnhtcG1ldGE+DQogICAgICAgICAgICAgICAgICAgICAgICAgICAgICAgICAgICAgICAgICAgICAgICAgICAgICAgICAgICAgICAgICAgICAgICAgICAgICAgICAgICAgICAgICAgICAgICAgICAgCiAgICAgICAgICAgICAgICAgICAgICAgICAgICAgICAgICAgICAgICAgICAgICAgICAgICAgICAgICAgICAgICAgICAgICAgICAgICAgICAgICAgICAgICAgICAgICAgICAgICAKICAgICAgICAgICAgICAgICAgICAgICAgICAgICAgICAgICAgICAgICAgICAgICAgICAgICAgICAgICAgICAgICAgICAgICAgICAgICAgICAgICAgICAgICAgICAgICAgICAgIAogICAgICAgICAgICAgICAgICAgICAgICAgICAgICAgICAgICAgICAgICAgICAgICAgICAgICAgICAgICAgICAgICAgICAgICAgICAgICAgICAgICAgICAgICAgICAgICAgICAgCiAgICAgICAgICAgICAgICAgICAgICAgICAgICAgICAgICAgICAgICAgICAgICAgICAgICAgICAgICAgICAgICAgICAgICAgICAgICAgICAgICAgICAgICAgICAgICAgICAgICAKICAgICAgICAgICAgICAgICAgICAgICAgICAgICAgICAgICAgICAgICAgICAgICAgICAgICAgICAgICAgICAgICAgICAgICAgICAgICAgICAgICAgICAgICAgICAgICAgICAgIAogICAgICAgICAgICAgICAgICAgICAgICAgICAgICAgICAgICAgICAgICAgICAgICAgICAgICAgICAgICAgICAgICAgICAgICAgICAgICAgICAgICAgICAgICAgICAgICAgICAgCiAgICAgICAgICAgICAgICAgICAgICAgICAgICAgICAgICAgICAgICAgICAgICAgICAgICAgICAgICAgICAgICAgICAgICAgICAgICAgICAgICAgICAgICAgICAgICAgICAgICAKICAgICAgICAgICAgICAgICAgICAgICAgICAgICAgICAgICAgICAgICAgICAgICAgICAgICAgICAgICAgICAgICAgICAgICAgICAgICAgICAgICAgICAgICAgICAgICAgICAgIAogICAgICAgICAgICAgICAgICAgICAgICAgICAgICAgICAgICAgICAgICAgICAgICAgICAgICAgICAgICAgICAgICAgICAgICAgICAgICAgICAgICAgICAgICAgICAgICAgICAgCiAgICAgICAgICAgICAgICAgICAgICAgICAgICAgICAgICAgICAgICAgICAgICAgICAgICAgICAgICAgICAgICAgICAgICAgICAgICAgICAgICAgICAgICAgICAgICAgICAgICAKICAgICAgICAgICAgICAgICAgICAgICAgICAgICAgICAgICAgICAgICAgICAgICAgICAgICAgICAgICAgICAgICAgICAgICAgICAgICAgICAgICAgICAgICAgICAgICAgICAgIAogICAgICAgICAgICAgICAgICAgICAgICAgICAgICAgICAgICAgICAgICAgICAgICAgICAgICAgICAgICAgICAgICAgICAgICAgICAgICAgICAgICAgICAgICAgICAgICAgICAgCiAgICAgICAgICAgICAgICAgICAgICAgICAgICAgICAgICAgICAgICAgICAgICAgICAgICAgICAgICAgICAgICAgICAgICAgICAgICAgICAgICAgICAgICAgICAgICAgICAgICAKICAgICAgICAgICAgICAgICAgICAgICAgICAgICAgICAgICAgICAgICAgICAgICAgICAgICAgICAgICAgICAgICAgICAgICAgICAgICAgICAgICAgICAgICAgICAgICAgICAgIAogICAgICAgICAgICAgICAgICAgICAgICAgICAgICAgICAgICAgICAgICAgICAgICAgICAgICAgICAgICAgICAgICAgICAgICAgICAgICAgICAgICAgICAgICAgICAgICAgICAgCiAgICAgICAgICAgICAgICAgICAgICAgICAgICAgICAgICAgICAgICAgICAgICAgICAgICAgICAgICAgICAgICAgICAgICAgICAgICAgICAgICAgICAgICAgICAgICAgICAgICAKICAgICAgICAgICAgICAgICAgICAgICAgICAgICAgICAgICAgICAgICAgICAgICAgICAgICAgICAgICAgICAgICAgICAgICAgICAgICAgICAgICAgICAgICAgICAgICAgICAgIAogICAgICAgICAgICAgICAgICAgICAgICAgICAgICAgICAgICAgICAgICAgICAgICAgICAgICAgICAgICAgICAgICAgICAgICAgICAgICAgICAgICAgICAgICAgICAgICAgICAgCiAgICAgICAgICAgICAgICAgICAgICAgICAgICAgICAgICAgICAgICAgICAgICAgICAgICAgICAgICAgICAgICAgICAgICAgICAgICAgICAgICAgICAgICAgICAgICAgICAgICAKICAgICAgICAgICAgICAgICAgICAgICAgICAgIDw/eHBhY2tldCBlbmQ9J3cnPz7/2wBDAAcFBQYFBAcGBQYIBwcIChELCgkJChUPEAwRGBUaGRgVGBcbHichGx0lHRcYIi4iJSgpKywrGiAvMy8qMicqKyr/2wBDAQcICAoJChQLCxQqHBgcKioqKioqKioqKioqKioqKioqKioqKioqKioqKioqKioqKioqKioqKioqKioqKioqKir/wAARCAECAv8DASIAAhEBAxEB/8QAHwAAAQUBAQEBAQEAAAAAAAAAAAECAwQFBgcICQoL/8QAtRAAAgEDAwIEAwUFBAQAAAF9AQIDAAQRBRIhMUEGE1FhByJxFDKBkaEII0KxwRVS0fAkM2JyggkKFhcYGRolJicoKSo0NTY3ODk6Q0RFRkdISUpTVFVWV1hZWmNkZWZnaGlqc3R1dnd4eXqDhIWGh4iJipKTlJWWl5iZmqKjpKWmp6ipqrKztLW2t7i5usLDxMXGx8jJytLT1NXW19jZ2uHi4+Tl5ufo6erx8vP09fb3+Pn6/8QAHwEAAwEBAQEBAQEBAQAAAAAAAAECAwQFBgcICQoL/8QAtREAAgECBAQDBAcFBAQAAQJ3AAECAxEEBSExBhJBUQdhcRMiMoEIFEKRobHBCSMzUvAVYnLRChYkNOEl8RcYGRomJygpKjU2Nzg5OkNERUZHSElKU1RVVldYWVpjZGVmZ2hpanN0dXZ3eHl6goOEhYaHiImKkpOUlZaXmJmaoqOkpaanqKmqsrO0tba3uLm6wsPExcbHyMnK0tPU1dbX2Nna4uPk5ebn6Onq8vP09fb3+Pn6/9oADAMBAAIRAxEAPwD6RooooAKKKKACiiigAooooAKKKKACiiigAooooAKKKKACiiigAooooAKKKKACiiigAooooAKKKKACiiigAooooAKKKTcobbkbj2zQAtFFFABRWHqfjXw1o9x5Gp63Z282cbHlGR9cdK1LHULTU7VbnT7mK5gbpJEwYH8qALFFFFABRRRQAUUUUAFFFFABRRRQAUUUUAFFFFABRRRQAUUUUAFFFFABRRRQAUUUUAFFFFABRRRQAUUUUAFFFFABRRRQAUUUUAFFFFABRRRQAUUUUAFFFFABRRRQAUUUUAFFFFABRRRQAUUUUAFFFFABRRRQAUUUUAFFFFABRRRQAUUUUAFFFFABRRRQAUUUUAFFFFABRRRQAUUUUAFFFFABRWV4j8RWXhnSTfagWILCOOJBl5XJ4VR3NZuh+P8ARdbuzZeZJZXw62t2nlufpnr+FaKnNx5ktCHUgpcrep09FFFZlhRRRQAUUUUAFFFFAAenFfOWq+IvHlx8f5YtNtLf+0ba2aO3s5JT5Xk8ncfcg5r6NrwHxdf3Xgf9or/hJ77S7u506e0EaPbxlskpt/MEUAek3vj2y8NeHbWPxrqNppmtz2hkaEEkb8fw+2a5/wCF/wAV9M1fQrS08Ra9A+t3E7osLDDNydowBjpXXNp2leN/DkGp32jRtPcWpMK3cQ3xbhwD6c1h/DX4b23hvw3bprmmWb6pDM7idVDEZY4wfpQBy3xB0v4Y+FtYu5vEWl3N1qGoq0y7UZ1B9j/DzV/9nzRrnTvDGoXUs6m1vLjfbW4lDmJRnr6HkflUOtfF/Tle6ste8GX73aM8SK1tvDjOAQcdDTPgF4d1jTW1rVdQtJdOsr+TNtaScY5JyB9OKAPZqKKKACiiigAooooAKKKKACiiigAooooAKKKKACiiigAooooAKKKKACiiigAooooAKKKKACiiigAooooAKKKKACiiigAooooAKKKKACiiigAooooAKKKKACiiigAooooAKKKKACiiigAooooAKKKKACiiigAooooAKKKKACiiigAooooAKKKKACiiigAooooAKKKKACiiigAooooAKhu7uGxs5bq7kWKGFC7uxwFA6mpq861WV/iN4mbQrKR18P6c4OozocC5kB4hU+nrWtOHO9dluZ1J8q03ew/w3aTeOfEY8W6tE8emWpK6PayDGfWdh6ntXU+IPCmk+Jrby9TtgZF/1dxH8skZ9VYc1rRRRwQpFCipHGoVFUYCgcACn05VZOV46W2FGklG0tb7nF6FD4p8OazFpN+G1nSJSRDf5AkgAHSQd/rXaUVneIdat/Dvh691e9/1NpC0jAdTgdKic+d3sVCPIrXNGivh3xV8avGniXWJLqLWbrTrbcfJtrOQxqi9skck/WvSfgj8db+TWF8P+OtSjktplJt9QunCGJgM7XY4BB9TzmoLPpmiual+JHgmH7/i7RPw1CI/yaqknxa8Axff8WaX/wABnDfyoA7CiuEk+Nvw5i+94qtD/upI38lqrJ8fPhrH08So/wDu2s3/AMRQB6LWTq3ifQtEdU1nVbOzc9FnlVSfwNec63+0d4GttHu30jUJbu9WFjbx/ZnAZ8fKCSBgZr5F1jWb/X9Wn1LV7mS6u52LPJI2fwHoPagD9DbDULPU7VbjTrmK5hbpJE4ZT+IqzXxf8AvGmo+HfiNY6ZHNI2nam/kzQFsqGwSrgeuRj6GvtCgBCoPUA/hS0UUAFFFFABRRRQAUUUUAFFFFABRRRQAUUUUAFFFFABRRRQAUUUUAFFFFABRRRQAUUUUAFFFFABRRRQAUUUUAFFFFABRRRQAUUUUAFFFFABRRRQAUUUUAFFFFABRRRQAUUUUAFFFFABRRRQAUUUUAFFFFABRRRQAUUUUAFFFFABRRRQAUUUUAFFFFABRRRQAUUUUAFFFFABRRRQAUUVgeL/E8fhrSd8a+df3DeVaW46yOenHoKqMXOXKiZSUVdmT40167uLyHwr4akxqt6P30w5FrF3Y+h9K6Pw/oVp4c0SDTbBcRxD5mPWRu7H3NZPgrwxJotpLfaq4n1i/bzbqY9j2QewrqK1qSSXs4bL8X/WxnTi2+eW/5IKKKKwNgrzT46+ItM0r4cXunXrs95qaeTa28R+d2PfHpXX+L/Fmm+C/Dlxq+ryhI4l+RM/NI3ZRXlXw48Jal4+8Uf8LF8coShOdLsXHyxp2bFAHytqGm3ulXbWupWs1rOoBMcyFWH4GvRfgp8MJfHfiqOfVLORtBtgWuJDlRIccID659PSvsHU/DWia06vq2lWl4yfdM0IYj86vWtnbWNusFnBHBEowqRqFA/AUAefxfAT4dx/8AMAR/96Vz/WrSfBP4eJ08L2Z/3tx/rXeUUAcZF8IvAMP3PC2nfjEDVyL4beDIf9X4Y0sfW1U/0rp6KAOavfh54TvdNuLM+H9NiWeJoy8dqisoIxkEDINfI/i34HeMvDWsSW1tpc2p2m4+Tc2q7g69sjqDX27RQB80/Av4J6xp/iWHxP4rtTZJaZNrbSEb2cjG4jsAM19LUUEgdTigAooooAKKKKACiiigAooooAKKKKACiiigAooooAKKKKACiiigAooooAKKKKACiiigAooooAKKKKACiiigAooooAKKKKACiiigAooooAKKKKACiiigAooooAKKKKACiiigAooooAKKKKACiiigAooooAKKKKACiiigAooooAKKKKACiiigAooooAKKKKACiiigAooooAKKKKACiigkAEk4A6mgCpqmp2uj6ZPf38gjggQszH+X1rjvCWl3XiPWW8YeIIdhYbdNtW/5Yx/3sepqqxb4leKNoDf8IzpUvJ7Xsw/mor0VVVECoAqqMADsK6X+5jy/ae/ku3+Zzr97Lm+ytvPzFooormOgKqarqlnoulXGo6lMsFrboXkdj0AqzJIkUbSSsERASzMcAD1rwLW9Q1D47eOW8P6JK8Pg/S5Ab27XgXLA9Ae/t+dABolhffHXxwPEGsxSQeEtNkxZ2zcC4YHqfX3r3yKKOCFIoUVI0AVVUYAHpVfS9LtNF0u30/TYVgtrdAkaKMAAVboA4PxJ8VtG8OeNNP0C4kiP2jP2i4MgC2w7ZrstN1Sy1iwS90u5juraTO2WI5U4ODXgnjbwzos37R2jWU9lG1tfoJLmNicSsT1Nem654X8QafpFjp/wyu9P0e2gZzLHOjMDnnjGe+aAOh8P+JtM8TwXU2kTGVLW4e2lJXGJF6iuJ8WeIviPL4pn0nwdocEdtAob7dc8rJkdq4b4TaX4/uItRk0TWtOt7OPWZBexyxMWkcMPMK4HAI6V6V8RviNF4RtY9O02P7dr94NltaR8kE/xH2oAz/hZ8SNT8ValqWh+JLSO31XTj87RfdbnB47V6ZXnfwp8BT+F7a71bW5ln1zVG8y5IPEeedor0SgAooooAKyvEmiL4g0OWxM8ts5IeOaJsFHHQ1q1yXi7xdLp9xHonh+IXmu3QxHEORCP77+gFaU4yc1y7mdRxUXzbC+B/EN3qCXWja2u3VtLYRzHtKvZx9a6yuc8IeFF8OW0s91O13ql4d93dOeWPoPQCujp1nFzfJsFLmUFzbhRRRWRoFFFFABRRRQAUUUUAFFFFABRRRQAUUUUAFFFFABRRRQAUUUUAFFFFABRRRQAUUUUAFFFFABRRRQAUUUUAFFFFABRRRQAUUUUAFFFFABRRRQAUUUUAFFFFABRRRQAUUUUAFFFFABRRRQAUUUUAFFFFABRRRQAUUUUAFFFFABRRRQAUUUUAFFFNlDmFxEQrlTtJ6A9qAPLte8eeL9GjudSubDTbKxhuPLjs7pm+0zLn7y4OMV6Vpt4NQ0y2vAuwTxrJtPbIzXgE+gai/h3VLO+8K6ld+InuC76i8ZddgIPysep+n/1q9y8MM//AAimm+dFJC4tkDRyIVZTjkEEZoA1qKxdA8W6P4la4j0u53TWzlJYZBtdSDjO09vetqqlFxdpIUZKSugrhPGOq3Wv6yngrw9KyTSqH1O7T/l1gP8ADn+83p6GtTxr4qbw/YRWumoLnWr9vJsbYDOXP8R/2R1NTeDvCy+GNIZJ5jd6ldOZ767b700p68+g6Af41tTSpx9pL5f5/L8zGbc5ezXz/wAjV0nSrTRNKt9O0+MRW9ugVF/qferlFFYNtu7NkklZBRRXk3xc+It9Z3EHgrwR/pHiTU/3ZaM5+yoerexx+XWkMxviV4t1L4g+KB8NPAUhwzf8TfUEPywxg/MmR+vqePWvVvCHhLTPBXhu30fR4tkUK/O5HzSt3Zvc1j/DH4dWXw88NC1Qi41K5PmX14fvSv6Z/ujt+feu0oAKKKKAOC8e/Ciw8capaaoNSutL1G1G1Li3GTjOemRz75rpvC+gnw34fg0xr641Boixa4uTl3JOea16KAKem6Rp+jxyx6XaRWqTSmaQRLje56sfc15frvwHXWvF174gXxXf2tzczNIvlxAmIE/dDbs4A4r1yigDgPBXwyuvCOuNqE/ivUdWVojH5FyPlGe/3jXf0UUAFFFcj4u8Xz2F1HoHhmJb3xDdj93H1S2X/nrIewHYd/53CDm7Iic1BXYeL/F82n3UWheHYhe6/dj93EOVt1/56P6AVa8I+EIvDlvJcXMpvdWujvu7yT7zt6D0UelL4R8IQeGbWWaeZr7Vbs77y+l5eVvQeijsK6OtJzUVyQ26vv8A8AzhBt889+i7f8EKKKKwNwooooAKKKKACiiigAooooAKKKKACiiigAooooAKKKKACiiigAoqK5kkitZZIITPKiFkiDBTIwHC5PAz0ya8p1JfibFo769q3jrR/DU6QtOdEewheFAuTsednLHjgsvHpSbtuNK563RXN/DzxLP4w+H+ka9eQpDcXkO6VI87QwJU4z2JGcUni3Q/FGsPanwr4w/4RwRBvPH9mRXfnZxj75G3GD0659qqScXZkxakro6WivPLTwb8SIb2GS6+Kv2mBJFaSH/hHbZPMUHldwbIyOM16HR0GFFcldeJtS1XxbeeHfCi2qS6dEj3+oXkTSxQO/KxLGrKXcrkn5lCjHXOKb4J8Tav4g1TX7TVoLRE0e7Fis1qGAuJANzvhidowy/Lk4OfmNJa/mD0L+keL4NX8V6t4fGm39pdaUqPNJcCPy3V87CpR2PIBOCAcdQOldBXlnhO91TU7rxzrfh9baGeXVHjju76BpInW3QRqgVWVj91iWzgbuAeQNVPiaH+Dtr43WwG6dEDQGTCRO0nllmbHCKcknHQUfZT9PxB/E16/hud9Wfq2t2WixQteu5kuJBFBBEheSZ/7qqOTxyT0ABJIAzWVpUvi3+2rb+0LnRdS0e4gZ2ubG3eB4n42gBpZA4YE8jHT3rG8Myf8JB8V/E+q3HzJovl6VZK3/LPKiSVh6FiyjPoop21t/X9X/zC+lzofEXjLRvCOjw6n4llnsLaUqu42sk3lseit5SsFPbrgnoTUmq+LdI0Twyuv6pLcW+mlFcymymLIrdCyBC6j/eAx3rk/iuP7VvfCPhkYI1TWY5JlwTmGAGR/wBQtWvi+5n8ER6LEf3ut39tp6gdcPIC/Hf5Falq1pu3Zfh+rHs9drX/AD/yOw0rVLXWtLt9R09pGtrhN8TSwvEzL2O1wGGe2RyOat02ONYokjjAVEUKoHYCnU3a+hKvbUKKwr7xx4T0y9ls9S8UaNZ3UJxJBcahFG6HrgqWyKg/4WP4I/6HLw//AODSD/4qkM6Suf1/xzoPhjU7LT9aubmG6vzttUjsZ5hM2cbVZEYbvbOa3o5EmiWSJ1eNwGV1OQwPQg153rijW/j54csOWj0PTp9RkABwHkIiTJ/76NNfEl/Wib/QPst/12Op8S+M9D8IR2r+ILie3S7k8qFo7OaYM/Zcxo2GPYHk846VtxyCWJZFDBWUMAylTz6g8j6GuE8cqNV+IHgjQ9u9VvZdUmGM4WCMhcj/AH3Xn2rvaS+G/wDX9XuD3t5f1+AUUUUAFZmm6/Z6lfXFgBLbX9sA0tpcpskCno47Mp/vKSM8ZyMVp1wXxRnTQYdF8WR/JPpWoxRyuDjfbzMI5EPqOVb6qDQt0u+n3h0bO9oyDnB6daAcjIrl9f8AAllrWrf2xaajqWjav5ax/bdPuSm5VyVDxtmNwMnqvfrQB1FFec6v4n8U/DvTnvfFkml69pMK/NeQyrZXf/fpz5cjeyspOeF6A9xourW+vaJaapZLKlvdxCWNZoyjgH1U9KfS6DbRl6syy8R6TqOvX+jWV6k2oaaqNdwqp/dbwSuTjGTjoDkd6reKtam0nTY4NOVZNVv5Ps1hERkGQj75H91Blm9h6kVxHw90eHQvi/4xsYCXK2Vg0szfemkZXLyN7sSSfrRHVg9r/wBb2PU65+68deHbK+a2ub9o9svkvcfZ5TbRyZxsacL5atnjaWBzj1q14q1GXR/B+r6lbjMtpZTTJxn5lQkfqK4PQNOgvP2YFt5l3Lc6HLNIW5LSMrOWPvuOahuylLt/wf8AIpRu0u//AAP8zt/FHjHQ/Bmnx33iS7ktLWWTy1lW2lmG49AfLVsZ98Zp+peKtJ0jwwfEOpS3EGmBFkaVrObeinoWjCb198qMd68m8UXdxrH7JunX90TLOlvZSOzHJbbKgzn14r0DxZ/xUkln4QhwY75BPqZBz5dop5X6yN8g9t57VpKLTa63sQndKT2av/X4HQ6Frth4k0aDVdHlkmsrgbopJIHi3j1CuoOPQ4wa0KZFFHBCkMCLHHGoVEUYCgcAAU+k7X0BXtqFFFFIYUUUUAFFFFABRRRQAUUUUAFFFFABRRRQAUUUUAcR4x+H66rN/bXhyY6Zr0PzJPEdol9m9frXPeH/AIsapbrc6f4q0K7kvbP5JJLOLcSe25O2fUcV6tLKkELyzMERAWZmOABXn/hlZfFPxAufFVvELfTIImtIWAwbs92PqB2rtpTUqbVRXS2/yOOpBxmnTdm9/wDMueDNDvbvUJvFviaPGpXi7baBh/x6Q9lHoT3rtqKK5ak3OV2dMIKCsgoqC6vbWxi8y9uYrdM43SuFH61zPjT4iaL4Q8KTaxJdQ3J+7bxQyBjK/YDFQWZnxV+JMXgbR1trBftWuX37uztV5OTxuI9KofCL4bSeGreXxH4lJuvEup/vJ5ZOTCDzsHp7/lWP8LPA+pa7rj/EPx2vmajdfNY20gyLdOxx246V7PQAUUUUAFFFFABRRRQAUUUUAFFFcj4r8WT292mg+Goxda3cDgdVtl/vv/hVwg5uyInNQV2HizxbPZ3SaD4aiW8125Hyr1S2X/no/pj0q54S8IweGbWSSWRrzVLs77y9k5eVv6AdhS+E/CcHhu1d5JDdalcnfdXknLSN/Qe1dDWk5pLkht1ff/gEQg2+ee/5f8EKKKKwNgooooAKKKKACiiigAooooAKKKKACiiigAooooAKKKKACiiigAooooAzPEkOpXPhfU4dClEOpyWsi2khOAspU7Tn64rw3w/4c0+XRzpQ+EeqT+KWi/0rUtdiD2rTlcNL57s24Z5wq/h3r6FopW38x328jhPgvZX+mfCXR7DV7OeyvLUSxSQzxNGwxK2DhuoIwc9DWt4t+Hfhfx09q3irS/t5tAwgP2iWLZuxn7jDP3R1rpaKqT5pczJiuVWR55afAb4b2N7Dd2vhzy54JFkjf7dcnaynIODJg8ivQ6KKLu1hnm/g6HUvDvibxja3Wm3c17qWqte2c/2d/IlhZVC5mA2DbyCpO7jgGo/hvJqOjeA9V+36XqTaybm9vLvfZyR+bMXJUJu+/uULjZuHvXplFL7NvK33f8MO+t/O/wCf+Z5H4Yl1zTfhJF4VtND1FPFEsEscxuLSRLeKSVyWla4I8tgN+7CszHpjNdRBDaeBPDOjeGpdHvdS0lLRoLi4t7N7oKwA4aJFZiHJY8AgY5612lFNu9/P+v1JWlvI8/8Ahvok+j6x4gbTbe6sfC9xJE+mWV3G8ZjfaTKUjfDRoWIwpA5B4ApvgGH+zPiH480ybCyS38WoRj+9HLGBu/76Vh9RXoVYOs+HHutatdd0i4Wz1e1Qw73UtHcQk5MUigjIzyCOVPPIyCX1v5W/L/JD3X4/1+PzOd8X2F3Z/FDw34peyur3S7G2ubecWkDTyW7yY2v5aAuwOCDtBxVia2ufGfjTRNQWzurXRNFL3SveQPBJc3LKUUCNwHCqCxJYDJIxmu1hMhgQzqiylRvVGLKG7gEgZHvgU+haWXYW933PO/Et34j1D4uaRofh/WLeygtLCXUbhZLWSRWJPlosgSVN4OWIHGCueeMegwiRYUE7q8oUb2RSqse5AJOB7ZP1rmLjwhe/8J7P4k07Wvsgu7OO0uIDaiR9qMzAxuWwpO7nKN+FdVSXwpev5v8AQb+J/L8v8zCvvA/hPU72W81Lwvo15dTHMk9xp8UjuemSxXJqD/hXHgj/AKE3w/8A+CuD/wCJrpKKAGxxpDEscSKkaAKqKMBQOgArztYrjwt8Xte17VbK/udO1aztorW4srKW68po926NkiVmHY5Ixz1r0aijW9w6WOO0XTLzVviBd+LNQtpbS2jsxYabBONshQtvklZeq7jtAB5wvIGcVk+HLrxRrfxM8TXUGtWi6RptzDp620lnK6ttXfJsxMFV/n2lyGzgcDGD6PXKeGPB974b1TU5I9b86wvtQlv/ALN9lCyb5OqvIWO5RwRtVTxySOKcdH6L8br/AIIPb1a+63/DGF8SvGsdjZ2VvYtrdtcR6zaJNJDpl4iOnnLvUSCPa4IyNqk7ugzXUz3b+LfD93BoF9qOjTllQXdxpksEkfIJ2pOi5yMjOCBn2p/irw5/wk2n2dt9q+y/Zr+3vd3l793lSB9uMjGcYz29DVnxFp+oar4eu7HR9T/sq7uI9iXnk+aYs9SF3LzjODng80vsW63/AEX/AAR/aX9dWcb4cjuIvilc23h7VdRvtCs7Ixan9tvZLpBebgVVGkLEMFyWCkKMjjNP+M8P9peDbLQ4j/pOraraW0KjrkSB2P0Cox/Ctbwr4X1nw5HZ2Z1bTP7KtY2X7JY6U8DSsf4nkeeQk5yTgAknk1bt/DtxeeJY9d8QTRSz2islhawA+VahhhnyeXkI43YAA4A6k1onHy1/G/8AXZE9H5/5W/4LOgUbVA9BivPvGet3cfiM6ZJ4/wDD/hPTxCjt5kkZv5CSd2BK2xFwAA21j19q9CrH1Twh4a1u8+1614e0rULnaE867so5X2joNzKTjmo6jWiscTop+E2j3y6jL4q0TVdVUf8AIS1XWYrm4+oZmwnU8IFHPSvSLO9tdRs4rvT7mG6tpl3RzQSB0ceoYcEVg/8ACuPBH/Qm+H//AAVwf/E1vWdla6dZxWmn20NrbQrtjhgjCIg9Ao4Aquguplaz4Q0jXtUt9R1Bb1by2jaKGa01G4tiisQWH7p164GfoPSvNPDXhewuvjL4iW703xN/Z+y1azub2XUBFNJCSW3SO2JAGwVDkg4+XivZqKUdHdDeqscja64PGOq+L/C1xprW9tp4Wza68zctx5sWTxgbSARxk9RXK6U+t6X8J28Dy6LfnxBFZyafA6WrtayKcos3n48sLtIYgkNxjaTivT7HTrTTYnjsYFhWSRpZMdXdjksSeST6mrNKyas+qV/l/TGm07ro9P6+4848Z+D5bL9n288MaTbyXs1pp0cUUcUZd5XQqThRySSCeK6PwVpF3Y6Sb/WUC6vqIWW6UNuEIC4SEH0RePc7j3rpKKvmbbb6k2slHsFFFFSMKKKKACiiigAooooAKKKKACiiigAooooAKKKKACiiuS8b+JbiwWDRNDXzda1L5IVH/LFe8jegFXCDnLlRM5KEbszPEt7ceMvEH/CJ6Q7JZQkNql0h4C/88wfU13NjY2+m2MNnZRLFBCoREUdAKzPCvhq38L6KlnATLM58y4nb70sh6sa2qupNP3I7L8fMinFr3pbv+rBTJZBDC8r/AHUUsfoKfUdy0S2srXLKsIQmRmOAFxzn8KxNT4Q+InxA1bxx4ouru8upRaiQrb2wYhI0B449azvB+qx2Pi7SJdTjN5ZQ3SM1vIxKnJ9Kn1zwzPc61q114Ws7vUNFhu3jju4oGZcZyASPaus+FPwf1/xT4ls7u/0+ey0m3lWSWedCu8A5wuetAH2bbukltE8Q2oyAqMdBjipKbGixxqiDCqAAPQCnUAFFFFABRRRQAUUUUAFFFcf4q8VXK36+HfCyC51qcfO3VLRP77n+Qq4Qc3ZETmoK7IPHPjxNDt7nTtIilvNV8hnxAm8W4/vNTfhWmk3HhkanYSm5v7k5vZpeZPM7g+g9q2vC3hS18N2LruN1e3B3XV3Jy0zHr+HtVfT/AARa6R4wk1vSLmS0huEIubFF/dyt2b2Iroc6SpunH7+/9dDBRqc6nL7ux09FFcB8S/EGqaJqXhuPS7xrZLu88ucKoO9cpxyPc1yHUd/RVGw1vTNTkeLT9QtrqSLiRYZQxU+4FXqACiiigAooooAKKKKACiiigAooooAKKKKACiiigAooooAKKKKACiiigAooooAKKKKACiiigAooooAKKKKACiiigAooooAKKKKACiiigAooooAKKKKACiiigAooooAKKKKACiiigAooooAKKKKACiiigAooooAKKKKACiiigAooooAKKKKACiiigAooooAKKKiurqCytJbq7lWGCFC8kjnAUDqaAMzxR4ktPC2hy6heZZvuQwry00h+6gHqax/BHhy7tmn8Q+Im83W9SG5welunaNfTHes3w7bT+OvEa+K9UQrpVqxXSLRx19ZmHqe3/wCqvQq6Z/uo+zW73/y/zOeH7yXO9un+f+QUUUVzHQFeLfGHxVqHiLXbb4Y+DHLahfkHUp0PFvD3UkdOOT7YHeuy+KnxCg+H/hR7mMCXVLo+TYW4GS8h749B1/TvWR8Gfh5N4X0ibXvEJM/iPWj593K/LRhjuCZ9ecn3+lAHZeD/AApp/gzwxaaLpSARQJ8z45kbux9ya3KKZLPFAAZpUjDHALsBk+lAD6KKKACiorm5gsrWS5u5UhhiUs8kjYVQO5NZnh3xZofiyCebw9qCXsdu/lyMisArYzjkCgDYooooAKKK4zxT4rvJNSHhrwgqz6zMP3sx5jsk7u3v6CrhBzdkROagrsd4q8VXZ1JfDPhJFudcmXMsh5jsYz/G59fQf/WB1PCvhW08L2DRxO1zeTnfdXkvMk79yT6egpfCvhWz8K6a0NuzT3U7eZd3kvMlxIerE/yHatytJzSXJDb8yIQbfPPf8gooorA2CvKPjdHFNN4ZjuZPLhe7dZHzjap2ZOe3Fer1zni3wTp3jL7ENUluESzcuqwsAHzjIOQeOO2KAPPrnQ9L8JfFrw3F4YYxLdRnz4llMm4YPJzk84z6cV7JXHeGfhhoXhbV21KyNxPcYIjM7hhED6YA/WuxoAKKKKACiiigAooooAKKKKACiiigAooooAKKKKACiiigAooooAKKKKAKuqXv9m6PeX3l+b9lgebZuxu2qTjPbpVDwh4g/wCEq8H6Zrv2b7J9vt1m8jzN/l57bsDP5CpPFP8AyJ+sf9eM3/os15N8P/AXiLWvhjoepP431jSrlLIHTrXTpFjtYkx8nmoVPmk9Tk98Ckn8V+lv1G+nz/Q9uorlPhr4mvPFfge1v9WRE1CKSS1uvLGFaSNyjMB2zjOO2apfESw0K9ksP7e8fah4RKh/KWy1lLH7R93JO772OOnTPvTlo7CWp3FFeNafongxNTtWg+N+u3cqzIUt38WwuspyMIVA+YHpjvmvZafS4uoUVxJ1vU/FXjTVND0K/bS9P0ZUS8v4I43mkuGG4RxiRWRQq/eJU5JwMYzSfD7WNb1bU/EsWr363tppeof2faSiFI2k2DLu+0DLZYA4wvy8Ac0lr91/l/TG9PyL+heK73VfG+veH7vSobdNIWJhdQ3hlEvmZKgqY12naMkZOPU9a6ivKvB51TW7LxnrVlfS6Ql3qk7QXsaRvJIIQI1+V1ZQgEeDxk5PIxk27bx/rV38CLTxfBZo+oyQo0wWIssa+ZsklCDkgKC+BR9lPyX4g/it5v8AA9KrI1rxFb6TdWljHDJe6leki2soSN7AfeckkBUXPLH2AySAcfwyuo317Z6vpnjQ+INAngfzFmht8+ZkbSjQxpgD5gQ2SMD3rP8ABcv9s/E3xpq0x3PZTw6VbjOfLjRN7Y+ruSfoKdtbfP8AT87fIL6X/r+tzZ8Y+NofA/h6DVtY0u9uo3kSKVdP8uQxO2AB87IWBY4BA/AVN4h8XR+GfBr+I9R0nUDBDGsk9tEIjNAp67gZApx0O1j7ZrmfidjVvE3grwyDkXurC8nQY+aK3Uuc57bitWvi2TeeGdP0FPv65qttZkDqU3h5P/HUNJar1dvy/W/3Bonrsld/j+iOv0fUTq+j22oGzubEXEYkEF0FEiA9NwVmAOOcZ7881dpFAVQBwAMClpu19BK9tQooopDCiivPLz48fDewvp7O78R+XPbyNFKn2G5O1lOCMiPB5Hai/QD0OivO7X49fDa8u4bW28Sb5pnWONfsNyNzE4AyY8da9Ep2drhfocq/jy3T4iL4N/sbVGvmg+0/aVWEwCHp5hPmbgM8Y25z270/WPHEOj+NNM8NPo2qXV1qas9vPbrCYtq/fLFpAwCggn5e/GTxWB4MxrXxe8a65w8dkYNIt34ONi75B/30wq1af8Tf48X833otC0eO3GO0s7l2/wDHUX86I/Zv6/g2v0CX2rdLfon+p3lFFFIApspcQuYVV5Ap2qzbQT2BODj64NOooAx9G8RQ6rd3WnzwSWOp2eDcWcxBYKc7XUjh0ODhh9CAcitiuA8d3K6H4+8FaxEAsl1fPpU5HV4pUJAP0dFNd/T3V/6/q1g62/r+tGV7fULO7nngtbuGaW2fZNHHIGaJsZwwHIOCDz61YrmNd+HfhzXr9tRls3sdVPTU9Ola2uc4xy6EFuMcNkcD0ri9S8aaz4J1RdMstctvHUu9V/spISNSjUkZJaFShABz86pxj5vVLXTqHmet0EgAknAHU1HBI0tvHI8bRM6BjG3VCR0PuK5nxTcvrGpQeEtPkZZLpPO1GWNsGC0zgjPZpCNg9tx7UWd7Atrlrwn410jxrHqUuhNLJDp941m8zqAsrKASyEE5XnqcVt3V1BY2c11eSpDbwoZJJHOFRQMkk+mK86+Fr2tjq3jS33Q26N4klhgjyFBIiTCqO/APA7CpPj1eT2fwc1X7OxXznhhcj+40qhh+I4/Gh7Rt1S+9pf5lJe80+7/A24fiDp5uNP8Atun6jp9nqkix2F/dxIsNy7DKqMOXQkdPMVc0nirx/beFNe0rSbjRdVv59Wcx2j2SQlGcdVJeRcEDnkYx361zvxzUQfBG7lh+R7V7WSFh1RllTBHpTviK7f298OL12UN/baIcnj54m/wqkk2v8Vvy/wAyLtR5vJv5o6fxp43tfA+nWl7f6XqV9HdXC2yrYJG7LI33VIZ1zk8DGa6C1ma4tIppLeS2eRAzQzbd8ZI+620kZHsSPeuWRP8AhKvG/nsN2leH5CsWRxNeEYZunIjU4B/vM392uuqVt/W39a/cN72/q4UUUUAFFFFABRRRQAUUUUAFFFFABXnesSy/EPxM3h+ybHh/TpFbU51P/HxIORCD6etaHjbXryS6h8LeHDu1W/X95KOlrF3c+h9K6Dw7oFn4a0SDTdPTCRjLOfvSMerH3Jrpj+6jzvd7f5/5HPL97LkWy3/y/wAzRhhjt4EhgRY441CqijAUDtT6KK5joCqWsavZ6Do9zqepzLDbWyF5HY9AKuk4GTwK8F8a6ld/GH4hx+CNBlddC0+QPql0h+VyD93+n1oAd8PtIu/iv4/l+IXiWFl0mycx6RaP0OD9/Ht1+v0r3iqumabaaPpdvp+nQrDbW8YjjRR0Aq1QAV4H8fL3xGvibQrO2kgisnuFa1wTuaXI5f2r3yvHvjxourXTaDq+k2Ml8mnXG+WOIZbrmgDotP8AE+reC/C8l/8AFS+tstMqQyWkXGCOhAFcV4c+NujQ+OfEE+sazO+kymP+z0MZIXj5sDtXpPg/X38baJJcatoElikbhUhvEB3cdcGs7w58PU0rxz4g1e8gspbPUfL+zw+UD5e0c8EYH4UAHjfwc3xDttLlGsT2+iBDPcWkXH2kEZXntXF/sylT4f14xrtQ3w2j0GwV7XMgWzkSNQAIyFUDpx0rx39nDTL7TPDuspqNnNas94ComQqSNg55oA9norldW8ZP4e8Sraa3Z+RpdwALfUFOV391f05qj4l8W3N/fL4d8GstxqM65luVOY7VD/ET6+1bRozduz69DJ1oK4/xT4qvJ9SHhrwiFm1aUfvp+qWad2Y+voK2fCvhaz8LaaYYCZrmY77m6k5eZ+5J/pR4W8LWfhfTTDbkzXMp33Ny/LzP3JNblOc0lyQ2/MUINvnnv+QUUUVgbBRRRQAUUUUAFFFFABRRRQAUUUUAFFFFABRRRQAUUUUAFFFFABRRRQAUUUUAFFFFABRRRQBn69bTXvhvUrW2TfNPaSxxrkDcxQgDJ46mvMPDcfxV8J+B9L8OW3hrT9QlW1EceoSaisQsTj7ssfJfaTgFGOQB0r1+ilbfz/S/+Y+3l/X6HO+A/Cg8F+DbPRjcfapo90lxcYx5srsWdvpk/lV/V/DWheIGiOvaLp+pmHIiN7apNszjONwOM4HT0rToqm7u7EtDnovh94Mt5kmg8I6FFLGwZHTTIQykcggheDXQ0UUgPP8Awxoev+Gtf8U20di0sOr6k9/bak0qGKMOqgq6bt+5cHAC7SMfMKi8A6R4i8NeA9Q0250iT+0llvJ/PluYj9sld2ZGG1uhBGS2wjHSvRaKPs28rDvrfzueWaDoXi+w+GEHgePSvsd79na3m1lriJrZVdiWdFDeYz4Y4DIoyOuOvVCDUPB2m6PpfhvQm1TSbS3MEyQTRpcKQFCFRI6IQfmLZYHkYrqaKbd7vuSlY4nwR4YudK8S+Itbex/se01iSF4tL3oTGyqQ8jBCUDMTyFJ6ZJyaq+C4f7F+J3jXSp/la+nh1W34wHjdNjEfR0IP1FegVka14dt9WurS+jmkstSsiTbXsIG9QfvIQQQyNjlT7EYIBAnZ/K39fchvVfj/AF8jA8U6DqafEDQvFul2Tamun289rPYxyIkpWTGHjLlUyCOQWHHSpl0jUvEvjDS9b1mxfTLHSEke0sZ5EeZ53G0yP5bMgCrkKAzZ3EnGMV1sIkWBBO6yShQHdV2hj3IGTge2TT6Fp8v6/UN/meaeI7G78SfGzS9OttZvrGHSNMfUGNukDeVLI3lIR5kbDJXfnIOO2OaufFHUr6z+Hev2C6Jql/EdKlV9SV7URj92QWYGVX46nan0Hat268F2lx4uk8Qx6hqFpcT26W1zFbTKkc6ISygnbvUgk8oy575rT13R7fxB4fvtHvXkS3voHt5GiIDhWGCQSCM89wal/Bb1/NlRdqnN6foZfhPVb3UNItILnQNS0tEs49txcyWzLJ8oHyiOV2z3+ZR/SuX8O2j2Hx91q2a9u7sf2FbyF7qYuSxlYEgfdXO0cKAPavRrW2S0s4baIsUhjWNS3UgDAzXJ2nw8Np4wk8SjxVrsl/NGkE3mC02SRK24RlRAMDOeRhuetW2nUv6/in/mZKL9ny+n4Nf5HY0UUVJYUUUUAeeeF9L1vwLe67ZpoVzrFtqeqzX9veWlxAoQSY+WUSOjAgg8qG49+K3fCHh250aPVNR1eSJtW1i5N1dmEkpEAoVI1JHIRQBkgZOTiumpGUOjK3IYYNGqWna39fcg3eve/wDX3nmXwn029v49S8Vza7qEqarqdxILdo7fy54kJijLERbwQqD7rKOBx1zD4x1/UpPHPgt28I6zG0OoTlEeazzP/o8gwmLggcc/MV4HrxXZeE/Blp4Psks7DUNRuLWEOtvBczKUgVm3FQFVd3PQvuYdM4q7qnh611bV9I1G5kmWbSZ3ngWNgFZmjZCGyCSMMehHNVpdW2Qfzed/xMzWtNTxXoME+saJqqLazGY6MZrfdd4VlCSYkMbId2dpcDIGfSue+FkFtaeIPFUEUJ0eQ3ETnw6F2pp67Dhl2/IfM5Y7MrkYyetdprugrrkdtjUL/Tp7WXzYbixlCsrYxyGDKwwTwyke1VtF8KW+hz6hfQXVxeatqAX7RqF9td5NoIQFUCKFXP3VC/nzSTtd/wBdAeqRznju3GufELwTosQ3PbXr6tOR/wAs4oUKgn6u6j869BrH0bw7DpV5dahPPJfaneYE95MAGKjO2NQOEQZOFH1JJya2KNlb+v6tYOt/6/rVninjHxX4I/4THUtO8efEPUxBBKF/sOztp7eGNdg+WSSJN0uck/exzjHFaWjfGT4NeHrEWehapa6fbjny7bS7hAT6nEXJ9zXrNFJaKwPV3I7e4jurWK4t23xTIHRsEZUjIPNZGqeDvDGr3b3ureGtJ1G6ZQDLc2MUsjADgbmH9a26KHYFc8r+F/gkaR4g1+/1jwNa6O8moPdaZcMlq7QQsoXy1MbMUxgnA4+Y81bih1P4sfDTxFp+tQ21mtxeT2+m3EKtteONx5UpyTn5l6jggcCvSHVZEZHUMrDBUjIIpI40ijWOJFREAVVUYCgdABRureVv+D66DvZ3Xe557q2keIfGvh/T/Deu6KdOgjmgfU7trmKSK4WIhisIVi53Mo++qYBPWrPxS8Na34h03Qh4XWIXlhq8FyHlYBIkAYFyCRuxkHA5Nd3RTbv99/y/yJSsreVv6+8o6NpNvoej2+nWYPlQLjc3LSMeWdj3ZiSSe5Jq9RRQ3d3GtAooopAFFFFABRRRQAUUUUAFYPi/xPF4Y0fzthnvJ28q1t1+9LIegrU1PUrXR9Mnv9QlWK3gQu7n0rjPCWnXXifWj4x11GROV0u0cf6mP++R/eNbU4K3PPZfj5GNSTvyR3f4eZqeCfDEujWs2o6s3n61qJ8y7lPOz0jHsK6miionNzlzM0hFQjyoKKK57xx4wsPA/hW61nUXXEa4ijJ5lc9FFQUcb8ZfH1zotnB4X8NZm8QaufKjVOTEh4LV0Pwy8BW3gHwpFZqBJfz/AL28uO8kh9/QVxvwc8IX+p6jcfETxghfVdSJa0jcf6iI9MDtxXslABRRRQAUUUUAFFFFABRRRQBXvrC11Kzktb+BLiCQYaOQZBqloXhrSfDcEkWjWaWyyNufbyWP1NatFVzSS5b6E8qve2oUUUVJQUUUUAFFFFABRRRQAUUUUAFFFFABRRRQAUUUUAFFFFABRRRQAUUUUAFFFFABRRRQAUUUUAFFFFABRRRQAUUUUAFFFFABRRRQAUUUUAFFFFABRRRQAUUUUAFFFFABRRRQAUUUUAFFFFABRRRQAUUUUAFFFFABRRRQAUUUUAFFFFABRRRQAUUUUAFFFFABRRRQAUUUUAFFFFAHA/FCGby9JvLqOW50O1uRJqFvF1I/hY+oB7V21hdWt7YQ3GnyJJbSIDG0f3cdsVNJGk0TRyoro4wysMgj0rz2507VPh3fyX2gQyX3h+Z91xp68vbk9Wj9vaumNqsFDZrbz/4JzyvTm59Hv5f8A9EoqCyu47+xhu4NwjmQOu9dpwfUVPXNsdG4yeeK2t5J7iRY4o1LO7HAUDqTXgVklx8dvieb64WRfB2gy4hjYfLdSA9ffPX6YFanxc8Tah4t8R2/wy8HyH7RckHVLhOkMfXaT+p/AV6n4U8M2HhDw3aaNpcYSG3QAnu7d2PuTQBroixxqkahUUYVQMACnUUUAFFFFABRRRQAUUUUAFFFFABRRRQAUUUUAFFFFABRRRQAUUUUAFFFFABRRRQAUUUUAFFFFABRRRQAUUUUAFFFFABRRRQAUUUUAFFFFABRRRQAUUUUAFFRzzw2sDz3MqQxRjLySMFVR6knpVXStb0rXbVrnRNTs9SgV9jS2dwsqhsZwSpIzyOPegBmta7YaBZpcalKyiWRYYY40LyTSN0RFGSxPoPc9BVmxuZLyyjnmtJ7NnzmC42b1577WYc9evfnB4rg9dk+1/H7wtZT8w2mmXd3EG6GUlUyOeoXP0zXWeLdeXwx4P1XW3TzPsNq8wQnG5gOB+JwKV7Q5n5/g7foOzcuVf1c2KK8b8RaLa6b8E7rxJryrd+KrqyWVNSfm4iuJsbEhccxqCwAVCBge5r1Lw5pv9j+GNN04ksbW1jiZj1ZgoBJ9ycmrcWrp9Cb3s11K3iPxdpPhNbaXXpJra1uGKfahAzxRHjHmMoOwHPBPHvWpY39pqdnHd6ddQ3dtKN0c0EgdHHqCODUzKrqVcBlYYIIyCK8w8T6f4K8Natu0XVrrw9r853C08PgyyXBz1e0UMrd/mKj68VPqV6HqFMnQyW8iLK0LMpAkQDcnHUZBGR7giud8C3vii/0FpfGdhFZ3YmZYQgCtJF/C7oHcIx7qGOKk8e6wdA+H2uampAe3spDHnu5XCj8yKU7pOwQ96SRnfC3UdY1jwX/AGjruoyag9xeT/ZppIo428hZCiZEaqCSFznHeuyrxTxj4b/4Rf4B6cXHneIbBLSOxulX97BMXQbIiOVHUED73Oc5r0jV/D2p6trXh/UYNeudOi012ku7OENsvtygbXwwGAQTyG61pJa+jt/wSE9L99f6/Q6OiiioKCiiigAqlrOr2eg6Ld6rqcnlWtnE0srewGcD39BV2vNvjdY2Op+EtO025tLea71LVLaytpZIFdod7guVJGVOxTyKWrsl10+/Qatu+n6HoGm3y6npVrfxxSwpdQpMscwAdAwBAbBIzz2JqzWZo/hvQ/DyyDQdHsNN80ASmztUh8zHTdtAzjJ6+tadU7X0JV7ahRRRSGFFFFABRRRQAUUUUAFFFFABRRRQAUUUUAFFFFABRRRQAUUUUAFFFMMsasFaRQx6AsM0APooooAKKKKACgjIweRRQTjrQBxXxN+I9h8NvDYvbiPz7qY+XbWwON7Y7+wr56k/af8AGTyylbexVHUhFEf3M9Dn2rpv2rtPuZJNC1KM7rSMSQuAc7WOCP5GvnCgD6//AGdNI02TwfP4mFyb7WdTnf7bM/3o2B+5+uffNeyV4b+y1pV9ZeBNQvbpWS2vLvdbq3cKoBYfj/KvcqACiiigAooooAKKKKACiiigAooooAKKKKACiiigAooooAKKKKACiiigAooooAKKKKACiiigAooooAKKKKACiiigAooooAKKKKACiiigAooooAKKKKAEYlVJCliBkAdTXH+B9atvFGqa7rNqdcgMVyNPlsdSlj8mCSIfN5SRsw5Lctk5I9K6u8uRZ2M9ywLLDG0hAGScDNcN8GPLHw4sbiWWL7bqrzanMit8x82VjnHXA4H4U47v+t/+AmD2X9f1rYx/Fmu6pqnxe0XQo/Duo3djpUcmpT28Utrm6IOyKTDTKAisSQGIbIzt4zXqFrBDEryw2q2z3DebMoVQzOQBlivBbAAzk9OtcJ4NJ1b4s+NtZbDR2rW+lQHHI8tN8g/76f8ASvQqFpBff9+v5WB/E/6/rW5534ptnPx18D3Fou6UWt8twAPuw7Fwx9PmIH412PiPQrbxN4a1DRb4utvfQNC7J95cjqPcda5K9ki8MfGbSUt98w8UQTxziaUyNE8IDqULElUIZgUHy5wQBznt9Q1Kx0ixe91W9t7G1jxvnuZVjRcnAyzEAcnFKycEn5/mx6qd15HG6t8PL/XfCdnpWp67DJc2EkD2s6WBWJTEwILxeYSxIXBO4d8AZNdpZRXENsq3tyLmbOWkWMRrn0VecD6kn3NLZ3trqNnFd6fcw3VtMu6OaCQOjj1DDgipqbb1uSraWMPxL4cm8SR29v8A21qOmWiMTcR6fIInuBxhTJjcq9c7cE561L4f8K6H4WtTb6BpsFmrHMjouZJT6u5yzH3JJrXopLQe4VzvjnwkvjfwvJoc1/LY288iNNJCoLsqndtGeByB1B4HTvXRUUDTscoPB13qeo6fc+K9Vi1KPS5RNZ2ttaG3i8wDCySAu5d15xgqoJzt6Vb13w9qGreItD1Gy16506302Z5LmziDbL4EABXwwGBjPIbrXQUU7i/4YKKKKQBRRRQAVzXjHwi3ig6RcWt8tjfaRfLe20kkHnRlgCCroGUkEHswrpaKA8irp9rNawt9ru3u5pHLu7DaoPoq/wAKjHTJPqSeatUUUAFFFFABRRRQAUUUUAFFFFABRRRQAUUUUAFFFFABRRRQAUUUUAFFFFAHn/xl8ezeAPAcl7YgG/uX8i3JHCk9W/AV8a3njDxFf6g17da3fvcFt2/7QwwfYA8V9ifG/wAB3XjvwC9vpY3ahZyefBGTjzOOV+pFfFl1pd/ZXj2l3ZXENyjbWikiIYH0xQB9C/Cn9oi2sNCmsPH93NJLBj7NcJE0jSL6NgdR611037Snh6RimkaHrWot28q3AH6nNYP7PHwpm062ufEPivTEDXKCO0t7qIFlXOS+0jjPavforS2gAEFvFGB0CIBj8qAPGP8AhdvjHUiV0L4aalJn7rTFl/QL/WkHir446rkWXhGxsFPQ3DgEfmwr26igDxIaB8d9VGLrX9J0xW6hRkj8gacPg74/1Ef8Tv4l3Sg9Vtoz/ite10UAeNQfs5aVNLG+veJdY1UIwYxzS/I2OxBJrQh/Zy8Aw6mLo2dzIgbcLd5vk/xx+Neq0UAQ2dnb6fZxWllCkFvCoSOOMYVQOgAqaiigAooooAKKKKACiiigAooooAKKKKACiiigAooooAKKKKACiiigAooooAKKKKACiiigAooooAKKKKACiiigAooooAKKKKACiiigAooooAKKKKACiiigAIBGCMg1kmxtfDWlzHw54fiLM+77Lp8cMHmMTyxyVXvknOeuATxWtRQBzHgHwvL4W8OyRXzRvqN9dS3180WSpmlbcQCeSAMKD7V09FFNu4HnGtp5/wC0V4YWU4S30e7liyRyxZVP6Vv/ABK1H+y/hnr1wPvtZvDHnu8g2L+rCk8VeHr681vRvEOhGE6lpLuphnYqlxBIAJI9wztbgEHB5GDwa5n4oahHqmm+E9E1e0exXW9bgjuLW5ZGYRxsXIJRmUgkJ3PDetTZSioPvb73/wAEd+WTn8/uX/ANnQ/EOl+F7Lw14ba2u47W4gS0sdQ2J9nnlVPuAht4JwSCVCnsTXbV5z4whXxP8SfCmhaf+8TRbr+1b94xlbcKpWJGI6MzE4HoCa9Gq2+b3n1b/r77kJcvu9kv6+6xxuoah440HVZ510y08SaM8haOOzcQXtupPTa52S44/iU/WtHQPHOg+IrlrOzumt9RjGZNOvYmt7mP6xuAce4yPeqWq/EbS7TVpdH0W1vfEGsQttlstMi3+Sf+mkhxHH0P3mz7Vj6n4J134hLCfHBsdJsoZVmistNUTXKspyM3Tr8vv5ag/wC11qY9O39ff/WpT38z0asnXfEdjoAtkuvNmurxzHaWdum+a4YDJCjgcDkkkAdyK1UQRxqi5woAGTk151DIsv7QupTam4SPTdAjNp5jAKqvITI4z0+6AT6CjeSX9bXD7N/61aR0Ol+N7TUvE58OzabqGn6stsbqW2ukjPlxZADF0dkOSeArE8HOK0NL8TaRrOq6npum3fnXelSLFeR+W6+UzDIGSAD07E1xngu9j1j4o+L9cuNsCxtbaVaLLhWZVQyE88/MXzjrgV1Og6j4YvPEGuW+gJbLqdrMi6qYbUxO0hB2732jecZ5yafb0v8A5fg/vE9G/X/h/wATF+Kni3VvCvhgf2Bp9xNf30qWttdI0OyGV2CrlXYFm5OBtI45IFdRot/d39mWv9JvtNljIXbetAzScfeHkyOuPxH0rjPiFKLz4heANFlUmGXUZb1yR8pMERKj65bP4V3tpe29/B51nKs0W5k3r0JBwcHvyOooXw38/wDL9bjluvT/AD/yJ65bTdZv7j4pa7pE0+6xtNPtJoYtijY7tKGOcZOdq9T2qTxb4M/4S02p/wCEk8QaJ9m3f8ga++z+bux9/wCU5xjj6mvMtN+F3nfFLXdN/wCE58aR/Z9PtJftSavieXe0vyu+zlRt4GOMn1ojuD2/rue5VR1SxudQhSG31Gawj3Zla3VfMdf7oY5257kDPoQeap+FvDn/AAi+ktY/2zq2sbpTJ9o1e6+0SjIA2hsD5eOnua2XZURmchVUZJJwAKUrWBXPOfgcZT4BuRPcTXLrq12hmuJC8j4kwCzHknA616PXmvwLnim8CXphlSQf2xeH5GB4MpI/MV6VTey9F+Qur9X+bCiiikMKKKKACiiigAooooAKKKKACiiigAooooAKKKKACiiigAooooAKgksrWWYTSW0TyL0dkBI/Gp6KACiiigAooooAKKKKACuX+IniS68KeCb3UrCxmvJ1Qqoix+6yD+8b2HWuornfiDBLc/DrXoYEaSR7GUKqjJPy0AedfBv4g+JtZsdO0/VdEvb2CVpS+tyTZU4JIGMdvu9a9nrxb4CeN9ETwjpvhV53GrLJLmAoem4tnP0Ne00AFFFFABRRRQAUUUUAFFFFABRRRQAUUUUAFFFFABRRRQAUUUUAFFFFABRRRQAUUUUAFFFFABRRRQAUUUUAFFFFABRRRQAUUUUAFFFFABRRRQAUUUUAFFFFABRRRQAVUvdJ07UwRqVha3YMbRkTwrJ8jY3LyOhwMjvirdFAFTTdJ07RrMWmj2FrYWykkQ2sKxICep2qAKt0UUAMigigDCCJIw7F2CKBuY9Scdz60+iigAqleaNpeoXdvdX+m2l1cWpJgmngV3hPqrEZX8Ku0UAUotF0uHVpdUh02zj1CZQst2kCiWQDoC+MkfU0+10vT7G7ubqysba3uLxg9zNDCqPOw6FyBlj9atUUAUtT0bS9agSHWdNtNQijcOkd3Asqqw7gMDg+9XERY0CIoVVGAoGABS0UAFUYdGsLfW7rV4YNt9dxRwzS72O9ELFRjOBjc3Qd6vUUAFUdV0TStdtVttc0yz1KBH3rFeW6TKrYxkBgRnBPPvV6igDF07wZ4X0e+S80nw3pFjdICEntbCKN1yMHDKoI4raoooAKKKKACiiigAooooAKKKKACiiigAooooAKKKKACiiigAooooAKKKKACiiigAooooAKKKKACiiigAoIBBBGQeoNFFAGfa6BpNleG6tNNtobg9ZI4gG/OtCiigAooooAKKKKACiiigAooooAKKKKACiiigAooooAKKKKACiiigAooooAKKKKACiiigAooooAKKKKACiiigAooooAKKKKACiiigAooooAKKKKACiiigAooooAKKKKACiiigAooooAKKKKACiiigAooooAKKKKACiiigAooooAKKKKACiiigAooooAKKKKACiiigAooooAKKKKACiiigAooooAKKKKACiiigAooooAKKKKACiiigAooooAKKKKACiiigAooooAKKKKACiiigAooooAKKKKACiiigAooooAKKKKACiiigAooooAKKKKACiiigAooooAKKKKACiiigAooooAKKKKACiiigAooooAKKKKACiiigAooooAKKKKACiiigAooooAKKKKACiiigAooooAKKKKACiiigAooooAKKKKACiiigAooooAKKKKACiiigAooooAKKKKACiiigAooooAKKKKAP/Z)"
      ],
      "metadata": {
        "id": "y94g1A71yZLc"
      }
    },
    {
      "cell_type": "code",
      "execution_count": 41,
      "metadata": {
        "id": "stBVINhSv97O"
      },
      "outputs": [],
      "source": [
        "# calculating dV for the entire day\n",
        "def delta_v_index(vlist):\n",
        "    \n",
        "    delta_index = []\n",
        "    for i in range(len(vlist)-3):\n",
        "        a = abs(vlist[i] - vlist[i+2])\n",
        "        b = abs(vlist[i+1] - vlist[i+3])\n",
        "        if a > 4 or b > 4:\n",
        "            if a > b:\n",
        "                delta_index.append(i)\n",
        "            else:\n",
        "                delta_index.append(i+1)\n",
        "#         elif a > 4 and b < 4:\n",
        "#             delta_index.append(i)\n",
        "        else:\n",
        "            i+=1\n",
        "    \n",
        "    return delta_index"
      ]
    },
    {
      "cell_type": "markdown",
      "source": [
        "We can parse the voltage measurements into the `delta_v_index()` function and group by TOD"
      ],
      "metadata": {
        "id": "3dauzLq_0p_C"
      }
    },
    {
      "cell_type": "code",
      "execution_count": 42,
      "metadata": {
        "id": "PMcUCR3mv97P"
      },
      "outputs": [],
      "source": [
        "def combined_index(alist):\n",
        "    a = set(alist)\n",
        "    index = list(a)\n",
        "    remove_index = []\n",
        "    \n",
        "    for i in range(len(index)-1):\n",
        "        if index[i] == index[i+1]:\n",
        "            remove_index.append(i+1)\n",
        "        else:\n",
        "            i+=1\n",
        "    for k in range(len(index)-1):\n",
        "        ch =  abs(index[k] - index[k+1])\n",
        "        if ch < 7:\n",
        "            remove_index.append(k+1)\n",
        "        else:\n",
        "            k+=1\n",
        "    for j in sorted(remove_index, reverse=True):\n",
        "        del index[j]\n",
        "    \n",
        "    return index"
      ]
    },
    {
      "cell_type": "code",
      "execution_count": 91,
      "metadata": {
        "id": "FbXuglMZv97P"
      },
      "outputs": [],
      "source": [
        "dU = delta_v_index(U)\n",
        "com_index = sorted(combined_index(dU), reverse=False)\n",
        "TG1 = []\n",
        "TG2 = []\n",
        "TG3 = []\n",
        "TG4 = []\n",
        "for d in com_index:\n",
        "    h = n_time(d)\n",
        "    if h>22 or h<4:\n",
        "        TG2.append(d)\n",
        "    elif h>4 and h<10:\n",
        "        TG3.append(d)\n",
        "    elif h>10 and h<16:\n",
        "        TG4.append(d)\n",
        "    else:\n",
        "        TG1.append(d)\n",
        "\n",
        "#print('TG1= {} \\nTG2= {} \\nTG3= {} \\nTG4= {}'.format(TG1, TG2, TG3, TG4))"
      ]
    },
    {
      "cell_type": "markdown",
      "source": [
        "The time groups above represent the timestamps where a tap change originates from."
      ],
      "metadata": {
        "id": "ed2LwytG2LXV"
      }
    },
    {
      "cell_type": "markdown",
      "source": [
        "## Voltage and power analysis\n",
        "\n",
        "Using the tap positions (timestamps) detected from above, we can further evaluate the `%dU` and `%dP` values called percentage change in voltage and percentage change in active power respectively.\n",
        "\n",
        "Using a mean absolute diviation (MAD) method, we can create an interval of voltage and power before and 2 steps after the tap change origin, and find the mean of both intervals."
      ],
      "metadata": {
        "id": "w1gOOY692tAm"
      }
    },
    {
      "cell_type": "code",
      "execution_count": 44,
      "metadata": {
        "id": "7u70a6zev97R"
      },
      "outputs": [],
      "source": [
        "# voltage change\n",
        "def delta_u(tod):\n",
        "    GAP = tod + 2\n",
        "    st = tod - WINDOW #as defined above (value=6)\n",
        "    fn = GAP + WINDOW\n",
        "    \n",
        "    bf_int = U[st:tod]\n",
        "    aft_int = U[GAP:fn]\n",
        "    \n",
        "    u1 = np.mean(bf_int)\n",
        "    u2 = np.mean(aft_int)\n",
        "    pdu = ((u1-u2)/u1)*100\n",
        "    \n",
        "    return pdu"
      ]
    },
    {
      "cell_type": "code",
      "execution_count": 45,
      "metadata": {
        "id": "2AWJYPalv97S"
      },
      "outputs": [],
      "source": [
        "# power change\n",
        "def delta_p(tod):\n",
        "    GAP = tod + 2\n",
        "    st = tod - WINDOW\n",
        "    fn = GAP + WINDOW\n",
        "    \n",
        "    bf_int = P[st:tod]\n",
        "    aft_int = P[GAP:fn]\n",
        "    \n",
        "    p1 = np.mean(bf_int)\n",
        "    p2 = np.mean(aft_int)\n",
        "    ch = p1 - p2\n",
        "    if p1 < 0:\n",
        "        pdp = (ch/abs(p1))*100\n",
        "    else:\n",
        "        pdp = (ch/p1)*100\n",
        "    \n",
        "    return pdp"
      ]
    },
    {
      "cell_type": "markdown",
      "source": [
        "## CVR factor computation\n",
        "CVR factor is the ratio between `%dP` and `%dU` obtained from the previous section\n",
        "This ratio defines the impact of voltage reduction on power consumption. For example, a CVRf of 0.75 implies that a 1% change in voltage results to a 0.75% change in active power"
      ],
      "metadata": {
        "id": "3DJeVyXT6jjW"
      }
    },
    {
      "cell_type": "code",
      "execution_count": 46,
      "metadata": {
        "id": "_qOT5dGov97T"
      },
      "outputs": [],
      "source": [
        "def cvrf_p(tod):\n",
        "    \n",
        "    volt = delta_u(tod)\n",
        "    powr = delta_p(tod)\n",
        "    cvr = powr/volt\n",
        "    \n",
        "    return cvr"
      ]
    },
    {
      "cell_type": "code",
      "execution_count": 47,
      "metadata": {
        "id": "4MbFvk1mv97U"
      },
      "outputs": [],
      "source": [
        "def cvr_eval(tg):\n",
        "  cvr_val = []\n",
        "  for i in tg:\n",
        "    cvr = cvrf_p(i)\n",
        "    cvr_val.append(round(cvr, 4))\n",
        "#     cvrq = cvrf_q(dd,i)\n",
        "#     cvrQ_points.append(cvrq)\n",
        "  return cvr_val"
      ]
    },
    {
      "cell_type": "code",
      "source": [
        "# filter outliers at +- 10\n",
        "def cvr_filter(ppoints):\n",
        "    fp = []\n",
        "    for j in ppoints:\n",
        "        if j > -10 and j < 10:\n",
        "            fp.append(j)\n",
        "    return fp"
      ],
      "metadata": {
        "id": "KOVrnvxA88C6"
      },
      "execution_count": 49,
      "outputs": []
    },
    {
      "cell_type": "code",
      "source": [
        "cvr_tg1 = cvr_filter(cvr_eval(TG1))\n",
        "cvr_tg2 = cvr_filter(cvr_eval(TG2))\n",
        "cvr_tg3 = cvr_filter(cvr_eval(TG3))\n",
        "cvr_tg4 = cvr_filter(cvr_eval(TG4))"
      ],
      "metadata": {
        "id": "Wc1ov7769rRt"
      },
      "execution_count": 50,
      "outputs": []
    },
    {
      "cell_type": "markdown",
      "source": [
        "## Visualizations\n",
        "The values of the CVRf as computed are contained in `cvr_tg1`, `cvr_tg2`, `cvr_tg3`, and `cvr_tg4`. Next, we can determine the mean and median values of CVRf for each time group and plot in a box plot.\n"
      ],
      "metadata": {
        "id": "2Whp67677hd3"
      }
    },
    {
      "cell_type": "markdown",
      "source": [
        "### Mean CVR factors"
      ],
      "metadata": {
        "id": "Lx3weT0GWg0h"
      }
    },
    {
      "cell_type": "code",
      "execution_count": 69,
      "metadata": {
        "id": "4lbPXuXb8heP",
        "outputId": "36820a79-d90c-4690-c8ed-67c354527925",
        "colab": {
          "base_uri": "https://localhost:8080/",
          "height": 542
        }
      },
      "outputs": [
        {
          "output_type": "display_data",
          "data": {
            "text/html": [
              "<html>\n",
              "<head><meta charset=\"utf-8\" /></head>\n",
              "<body>\n",
              "    <div>            <script src=\"https://cdnjs.cloudflare.com/ajax/libs/mathjax/2.7.5/MathJax.js?config=TeX-AMS-MML_SVG\"></script><script type=\"text/javascript\">if (window.MathJax) {MathJax.Hub.Config({SVG: {font: \"STIX-Web\"}});}</script>                <script type=\"text/javascript\">window.PlotlyConfig = {MathJaxConfig: 'local'};</script>\n",
              "        <script src=\"https://cdn.plot.ly/plotly-2.8.3.min.js\"></script>                <div id=\"8817f831-31bb-48b9-a5a8-ee68df2e5000\" class=\"plotly-graph-div\" style=\"height:525px; width:100%;\"></div>            <script type=\"text/javascript\">                                    window.PLOTLYENV=window.PLOTLYENV || {};                                    if (document.getElementById(\"8817f831-31bb-48b9-a5a8-ee68df2e5000\")) {                    Plotly.newPlot(                        \"8817f831-31bb-48b9-a5a8-ee68df2e5000\",                        [{\"boxmean\":true,\"boxpoints\":\"outliers\",\"name\":\"16:00 - 22:00\",\"y\":[0.7622,7.9018,2.2184,-2.5875,-9.6049,0.0784,8.5618,7.538,6.6757,-0.3291,-5.8344,1.8273,4.3658,-3.5505,2.5215,2.3499,-0.2089,1.4389,0.0089,6.1154,9.2905,4.4915,6.1843,-4.9558,-1.2515,6.2688,0.6019,-9.2662,-6.1691,-4.8746,-2.4148,-0.0061,-3.4047,-2.3787,-3.0817,-2.217,4.1905,-4.1229,-2.8063,1.1195,1.0474,-7.4112,-5.9873,6.1882,4.1925,2.7651,4.5297,-7.1823,-6.555,-3.6959,1.0684,-0.9495,-4.7563,-6.525,-3.0524,-2.9608,4.5491,5.2818,9.5621,0.1376,-7.1439,3.9043,2.9001,-0.7859,2.3889,6.1334,7.5204,-0.5902,0.389,-3.679,-3.4323,2.5062,-1.965,-3.5218,-7.2885,5.2367,3.7172,-6.2367,-0.8687,3.1673,-8.921,7.4049,-4.5029,3.7147,6.7488,-5.6245,-3.1339,-2.2509,-4.4717,6.3814,-3.3559,-3.1204,4.8935,-1.7789,6.0437,2.5263,8.5155,3.9017,-0.573,0.4821,-1.8327,-3.0601,0.5787,-4.4849,2.9873,4.1157,-1.256,-0.0991,4.1635,4.4693,7.9845,5.2251,8.7213,-0.1191,-2.0999,-1.8427,2.2627,-1.3791,5.3992,-0.0091,0.2177,-1.1444,4.8118,2.4834,1.9693,-7.3212,-1.3239,-2.89,7.1086,-3.1271,3.6014,1.8926,6.3279,6.4932,2.7164,-2.5137,6.1012,6.3814,1.2308,-2.0944,4.7532,2.8228,8.6429,4.8463,2.0808,2.5035,0.9691,-1.6078,-3.471,3.1564,-4.5954,-3.4721,-4.7522,4.4916,3.2627,-4.0313,4.5796,4.8142,1.0714,6.7312,-0.3105,-3.1392,-6.2157,-1.8118,-1.6537,7.6386,7.6483,5.0325,-9.7732,1.4077,1.7253,2.0977,-9.0509,4.4125,-2.7755,2.5338,0.2322,3.8967,-0.2268,3.6859,3.0997,3.2966,3.9087,7.423,7.4917,-0.5109,3.3318,8.5393,1.0322,2.7103,1.7829,-5.467,-5.7078,-6.3644,-2.8661,2.3056,-4.1413,5.2071,4.0095,4.174,3.6438,9.5699,-5.366,2.7871,-5.3892,-1.9583,-0.5794,6.2066,5.5976,-2.493,5.1358,-1.9492,3.1047,-2.7485,5.2289,3.1435,-7.7379,6.3509,-0.0915,0.6601,-8.6548,4.9478,6.7717,-2.3879,-1.0318,-1.1355,6.998,-5.3588,-9.7539,7.9501,2.8712,-2.8283,-1.6712,-5.4544,3.5138,-4.5984,-1.7006,2.8002,4.7269,0.4018,3.7004,3.9078,5.2139,0.4757,3.3577,2.1533,2.5893,7.1149,-0.894,-4.9295,5.5983,9.0416,-0.212,5.8482,-1.8415,1.5786,1.0217,1.3282,-0.9656,-7.8789,3.353,-3.2167,0.3701,7.8393,-2.4988,-3.551,4.7799,4.6013,2.3667,8.556,-7.4583,2.8306,-7.3771,-1.4639,-0.3457,-0.8277,4.6008,-1.3424,2.4428,-1.637,-6.0133,7.7105,0.7771,-2.8034,4.825,-4.448,-3.135,3.1909,2.7294,4.8214,-7.8435,4.2845,-6.1861,5.9708,-1.6675,7.135,1.9492,0.7068,-7.1158,-1.2246,-2.8717,-3.3752,6.5902,6.6818,3.3962,9.5592,8.8977,-5.6124,0.3303,5.5577,-2.0777,-1.917,6.9126,4.4573,-3.4484,-6.8815,4.9135,-1.1375,-1.7874,-4.4817,-3.8043,-3.0894,-0.7467,2.5125,-5.432,-7.6057,1.7525,-6.1147,5.1599,7.2196,-5.3794,-6.364,-1.4436,4.5389,3.7861,5.8159,9.4036,-2.3846,0.2299,1.5775,-4.0986,-0.653,-5.6992,0.2673,-3.0757,-1.4622,0.7368,0.1591,4.1177,-0.1664,-7.0469,0.4147,9.5405,1.6325,-5.7244,-3.1035,4.7155,-1.7289,2.5189,-5.8174,-2.7167,1.1766,8.4424,-5.7475,2.5841,2.8902,3.8059,6.9847,2.5338,4.589,3.9279,-3.8235,2.9982,3.2275,1.78,-4.7258,6.8429,7.0765,3.1298,-6.0181,5.1234,2.268,6.3747,2.6023,-3.7256,-5.2499,2.6268,1.5956,1.1068,3.6166,2.8744,1.29,7.6712,2.8494,-1.2222,2.5273,4.7283,3.4828,4.7974,4.734,-2.2711,2.6064,1.6457,1.2838,3.8822,5.5735,6.8883,-1.4078,-6.0914,1.4055,2.0121,-3.8569,-6.1028,0.2167,0.5317,0.2572,6.0407,-1.7771,-2.1088,3.9648,2.8186,2.0634,6.2839,4.8759,1.2639,3.3386,-7.1369,5.8196,2.2677,4.4126,-1.8832,0.6329,4.9249,1.8696,3.219,-9.46,-2.2797,7.2308,-8.3191,-7.3517,-0.6725,-9.8133,9.1135,2.6822,0.6426,-1.5462,-6.9665,-1.0907,-8.6094,-1.6923,0.8802,8.7335,1.0914,-1.333,-2.5931,2.7604,1.6335,5.3941,1.2418,8.826,0.8159,6.2716,-0.6258,0.5972,2.7033,4.961,6.8404,-3.7398,6.7156,3.8989,-4.1352,-5.2089,-0.5585,5.0237,3.774,0.3393,3.0664,-0.2657,-7.9294,-8.7955,0.2539,4.9965,1.0342,6.7174,9.5701,6.3495,-2.4816,-0.8596,-7.1595,3.8533,3.1525,1.5943,-2.6351,0.6116,-8.3647,-0.5968,6.1578,8.5512,-4.696,8.0442,2.595,3.9273,6.4448,-6.8992,2.3209,5.3667,5.8665,7.0219,3.1523,4.1383,-0.2828,-6.5242,-1.4655,-1.8989,1.6828,4.9968,0.9704,-6.1248,-6.1622,2.3199,5.8314,1.0994,-2.0071,-2.1765,-4.165,1.761,-9.6839,-0.4549,2.5619,0.1917,9.9316,-0.9285,4.8056,-0.0227,-6.543,2.555,-9.7159,9.8378,3.1698,-3.438,4.093,6.4378,7.7436,-0.8929,-4.0677,6.2544,7.4028,-5.579,7.552,-4.6373,-0.7039,3.9879,-2.9172,2.6338,-6.6138,-7.2812,-8.3298,-1.4416,3.1211,8.1964,2.0168,3.6033,-2.9812,2.7349,0.9795,-3.8873,-2.0746,6.8922,1.1776,2.373,1.7424,-0.4779,-8.9133,-7.594,-1.1013,-1.539,-4.8796,-3.6678,7.6261,8.4219,7.4351,-5.8821,4.5517,7.7892,3.6337,9.2367,3.1753,5.6563,-3.5183,4.6587,7.7909,2.6072,9.2934,7.5478,9.8346,9.3084,-6.4135,-5.865,-5.4984,1.338,3.7951,2.5685,-7.9535,-5.8329,-2.3003,-5.9819,1.2705,3.9888,1.171,4.0591,-2.3024,0.4914,3.213,5.4185,9.0996,6.2222,-0.1117,5.6997,-0.7778,1.6614,-3.0339,1.9059,-9.2877,7.5677,6.2993,3.9531,1.8199,7.6594,-5.5523,8.2961,9.3386,0.7386,-2.6731,-7.8879,0.1879,7.7957,2.9449,4.4461,-5.5905,-0.701,2.1296,2.673,-3.4892,5.5129,4.5488,3.2151,3.9486,9.6944,6.0902,-4.2197,-8.6433,6.1874,0.7929,-4.186,-3.2193,-6.874,3.8229,3.089,0.1946,0.8019,-0.9351,-7.9177,-4.8533,1.8329,-1.1964,1.575,0.6304,5.1965,4.2581,-0.1956,4.8256,-2.6259,3.6456,5.023,4.1676,-1.3407,6.3795,3.1524,-0.6373,2.2471,2.7185,2.3667,4.1725,6.6155,6.4014,-5.3511,-8.7987,-0.8127,4.6672,9.5287,7.8127,4.5587,-7.2809,-6.9671,8.6561,6.4411,8.2074,-2.2229,-3.1199,-0.0764,-0.1338,5.1447,-2.9248,-3.6762,-2.3772,-4.6543,1.4228,-9.2251,-9.5173,-1.1119,-0.0062,-1.4398,-7.1962,-0.3556,7.4232,-5.4117,-1.032,-4.1075,5.7811,0.4194,2.2988,4.5379,-0.4485,-7.0222,6.9416,-3.6506,1.0271,-5.0209,-4.2514,2.9562,6.7223,4.2055,1.9073,8.5012,9.0061,-3.2907,7.2246,1.7703,2.3623,-8.1291,-8.2427,9.1308,-1.7006,-4.6114,-8.6376,-7.3053,4.3966,1.7128,-8.8085,-2.6759,8.7889,9.1625,9.0883,-3.8783,-4.4485,-2.262,5.4684,4.4147,-9.1715,1.073,4.6268,-2.6338,3.3579,-4.7473,-2.9074,-8.9053,1.9127,-0.4122,-0.9958,0.5342,-2.0404,-1.9989,4.2865,9.9753,2.0705,2.8376,-8.0633,-9.7509,-5.6703,-2.7079,2.0313,-3.7537,-4.1644,4.0119,9.8417,9.8556,-3.8551,-6.9553,3.5282,-4.4777,7.0926,-3.2035,6.1414,-2.8918,6.798,9.7594,-2.6591,4.385,-1.1423,2.2252,7.3711,-3.2234,5.3049,4.7277,-5.3309,4.2011,5.7717,-6.9081,2.7639,-2.2594,-6.9924,1.431,2.3745,-0.4732,8.4846,9.732,-1.1366,1.5616,0.9756,2.6149,1.3725,4.439,-4.1585,-3.1538,5.4433,3.6589,5.6825,-1.2486,5.968,2.9915,7.5887,0.784,-0.3534,-0.3511,9.3198,2.5575,3.2024,-3.3691,2.2395,1.2232,-2.7962,2.0276,-1.7078,-1.3972,9.1866,-0.0981,-6.1667,1.3316,-9.2982,9.4399,4.8411,9.2735,-6.2685,7.379,0.528,3.4712,-1.9666,-1.2512,0.2139,-5.3725,0.9149,-2.6885,8.6782,-0.8465,2.3239,2.5057,1.222,0.5962,4.4577,-7.76,1.3722,1.0985,-0.2073,4.7308,7.3671,-7.739,-0.3604,-9.5591,-6.2451,0.173,-3.4875,2.1182,-0.9463,6.934,-2.5776,4.4879,8.3904,-4.8607,3.5001,9.0203,1.138,3.2515,-0.4182,0.8743,7.0714,-2.1184,-4.0951,-4.1142,-4.9702,8.9302,1.194,-2.9133,4.625,2.6018,1.8571,0.3276,-4.6328,9.0295,-5.0664,-5.1989,0.5401,-9.5573,1.8243,0.2527,0.7336,-0.4713,-8.1829,-6.9545,-5.914,-3.7776,6.4514,5.8405,-4.2131,2.8164,1.1145,-0.3914,1.0043,2.8937,-3.0038,-0.7174,2.7839,1.4996,7.6944,-1.3264,-0.0811,3.0907,5.8961,1.6726,-2.0658,-7.9413,1.5663,-7.7794,4.5424,-0.1361,-3.9455,-2.5626,-0.51,1.4895,1.2943,8.3059,4.382,1.0839,3.5889,5.0493,5.9888,-1.0886,-3.5119,-5.9173,2.7503,9.8692,-0.9717,0.4497,1.6398,4.0014,5.7026,2.046,8.4253,6.8118,0.5463,0.8338,0.4039,-7.5834,-3.1411,1.803,-6.2681,1.6314,-5.3457,-7.3152,-2.795,3.6285,7.7068,6.3985,8.0496,-1.0349,-7.0109,-5.4776,2.8161,4.4916,2.485,0.3054,-2.9328,-0.4125,2.0959,7.7075,-0.5867,0.4295,-6.9506,0.2594,1.6742,-9.0733,-4.6872,-7.8922,-2.3002,3.1704,1.4568,1.4151,1.0384,7.832,8.2259,4.57,3.6241,1.5814,1.5546,-3.3315,0.8817,6.8078,4.2674,-8.1134,-4.7288,-3.2066,2.1264,-7.349,-6.2684,-7.6795,2.6007,-0.4354,6.7415,4.017,4.4691,-5.1528,2.9009,-3.1159,0.5741,1.2583,0.9935,-0.0849,5.0072,2.5467,9.6317,2.8456,-6.2666,-1.0595,-0.4107,-3.683,-4.5413,-2.9447,2.6879,3.0223,-9.373,0.7037,1.6603,0.6881,1.165,0.8432,7.2945,-1.6555,6.4662,0.1761,0.7835,5.142,1.2387,2.4375,0.2113,-2.2619,-6.1775,0.95,4.7402,6.8654,0.7235,1.1388,2.1016,0.5906,4.1161,3.5966,4.1352,9.1724,8.19,-1.2582,9.3652,-0.617,-1.7604,-9.9889,4.9511,-3.9343,3.8899,-5.3477,-1.1155,0.1779,-1.0134,-0.5166,-4.2131,4.8445,2.6112,1.2197,6.0373,7.7032,-3.553,4.1934,7.1698,-0.4925,-3.0239,-7.3877,0.0972,5.2093,3.9279,-9.1891,1.8368,7.6987,4.8496,-2.3226,-0.4917,6.1332,0.2921,-5.0818,-1.321,1.3473,1.9603,-1.3786,1.0853,3.7378,1.2914,1.4937,2.544,6.2136,-4.9984,6.9007,4.9131,4.1413,2.2259,-8.1944,-0.6041,-1.3447,2.2112,-0.3964,4.8859,8.4743,-9.5093,-3.2734,9.6368,5.5837,-5.3961,0.4952,-0.4158,1.6471,-6.7365,4.77,4.6406,0.7997,-8.7543,-2.3752,-3.9162,-4.8315,-9.8599,-5.0579,-4.234,3.664,3.2959,2.84,2.6526,6.2519,5.9061,-0.5413,-7.907,-9.7561,-4.4771,3.2959,2.0377,6.5757,-4.9194,-5.5518,-6.5754,4.3833,8.8227,-7.2344,-3.0015,0.3252,-6.794,5.7221,-5.6288,1.4667,7.6703,-2.699,8.9,-0.02,-4.0933,-7.2873,8.1244,5.3206,-0.2262,-5.7282,-1.7377,-2.2461,3.369,2.0459,-1.7267,4.4961,1.2416,1.9422,9.7316,3.1061,-0.3924,0.2332,4.1202,-2.2304,-1.6635,0.3082,3.7772,-1.1154,-4.8702,-3.0079,-1.6862,4.7024,8.2262,1.2119,-3.4141,1.8547,2.9034,-0.5868,-1.2801,0.6774,5.8928,2.2882,0.9865,7.9483,-6.4066,0.5963,-8.2332,-1.4392,2.2363,3.8733,6.2154,3.2884,3.7906,2.1315,7.4343,8.7964,6.301,0.7963,5.5359,-6.8851,7.3466,2.7478,0.6748,-0.446,-1.2153,-3.5608,0.0282,1.3802,6.3486,7.1801,6.7413,2.1722,3.9294,7.3476,-3.6718,-1.4837,9.1619,-0.8162,-6.9139,-3.4984,2.1001,9.4025,0.7001,-9.7277,3.632,-0.8228,-0.4349,-3.9881,6.6633,3.3303,-1.2229,5.2859,2.7573,-2.1458,5.8736,5.3541,-5.2728,-4.2042,1.0826,-9.856,3.4007,6.7126,7.5393,3.3185,-2.1968,-8.1493,8.5114,3.5486,-0.19,6.2747,1.0083,1.3359,-0.8673,-4.1733,-1.7461,-2.779,-3.5337,3.9702,1.3117,-9.5384,-9.8707,-0.3699,8.3172,-5.4473,4.1912,0.6849,-1.3936,3.0925,0.8258,-0.3688,-2.6603,4.5814,-1.5989,0.6553,2.4581,-6.5741,-3.8946,9.5052,2.3753,4.4698,4.4208,4.4164,-0.6673,-3.725,-3.5119,-5.531,-1.5012,-2.9089,-9.2924,-2.8473,1.4301,-6.1706,6.5614,8.0911,-0.6047,6.1946,1.7552,4.9907,1.9637,8.6429,1.273,4.05,0.5593,-2.6826,0.8185,3.4809,-5.538,7.5839,6.8794,2.1332,0.675,-2.9542,-0.127,-0.1468,-2.1254,1.1498,0.6217,5.491,2.2616,0.3951,1.522,5.3015,6.842,2.2451,3.4137,2.486,1.7386,4.0748,2.973,-0.6313,-6.2328,7.3675,5.7684,6.6087,2.6488,0.3883,-0.0302,8.9177,8.8298,5.9355,1.4789,-0.0086,3.1871,7.0749,2.8059,1.791,8.6637,-0.7463,-7.097,6.9346,2.7263,-2.586,-1.0985,4.2684,-1.0934,-0.7829,-5.1353,-6.2486,2.0685,-3.749,-9.1972,3.1688,5.4231,4.4964,-3.1594,-4.687,-3.9144,5.5877,0.0263,4.6857,-6.2656,6.1124,0.4536,3.5785,3.9499,1.3608,2.7211,-0.1801,-3.8089,-0.0775,3.752,-2.3556,2.4372,1.5866,5.9661,5.4417,6.7087,9.1831,-6.1614,0.2747,0.8037,5.8185,-0.4583,-5.7545,9.8191,4.7497,4.8027,3.2179,2.0274,-1.2178,2.2072,-3.4231,-1.6099,6.6084,4.9647,-0.0389,2.3453,5.5812,6.2937,4.2183,0.4104,0.7317,3.9199,5.4734,2.2753,-4.4075,4.0396,-0.0338,-2.4435,-0.0715,0.6365,-9.9095,1.3231,-9.7398,-9.1293,8.4111,6.3191,6.125,-1.4544,3.1926,4.5004,5.3296,-1.767,-3.4446,-5.3445,-2.3367,2.2252,1.0548,6.9534,8.5221,5.3947,4.3606,5.0097,7.3721,0.1053,-1.0705,-1.881,6.9324,6.603,5.5837,7.4678,5.098,3.5729,8.2631,-0.5978,-6.0546,-2.2554,-1.0309,-1.1825,6.6367,6.2473,6.4951,3.3278,0.8743,6.7518,5.3164,6.7192,-4.1475,3.9306,2.0328,3.5706,-3.9236,2.1049,2.5537,6.1933,7.6037,0.8299,-4.5413,4.4439,7.2986,-4.0199,0.8241,0.6516,-2.42,-2.9405,-0.1242,-1.5544,0.3282,3.392,0.0054,-5.616,-0.1099,-0.1507,0.9896,-0.6737,5.8002,3.1918,1.1873,3.8256,5.4295,0.2669,-0.3062,6.6924,4.554,6.8204,-0.5529,1.2089,2.6273,-5.5182,0.1907,2.0454,-1.6529,-2.5417,-0.939,5.8445,4.5079,2.7875,-4.1772,4.2429,6.8596,6.792,5.4569,6.1736,1.5386,-2.2329,-3.9961,6.2607,5.8367,3.429,3.472,0.074,6.7866,0.1822,2.106,-1.4763,-0.8038,6.0592,9.1278,0.3366,4.4999,2.5489,-2.0222,-1.281,-3.4492,-0.7337,2.7588,4.1688,3.1547,-8.2719,5.1353,-4.6237,0.9253,1.1454,4.035,1.6412,8.589,-5.4085,-1.4867,7.2875,5.7069,4.3787,5.6206,4.103,4.888,-1.4863,0.6967,0.0519,8.5029,5.0309,0.4648,-0.7375,2.6061,3.8023,2.8358,-4.3169,-4.3392,9.6109,3.2256,4.1355,-0.9022,8.8498,6.9257,7.6072,6.0624,2.9015,1.6387,-1.748,4.3803,4.2388,-3.7907,-8.2451,-5.1348,-4.6654,6.6404,-8.0249,-0.5354,9.9701,7.5053,0.4074,2.3718,8.639,-1.6433,9.3731,-0.6125,5.3489],\"type\":\"box\"},{\"boxmean\":true,\"boxpoints\":\"outliers\",\"name\":\"22:00 - 04:00\",\"y\":[0.3958,5.526,9.0504,-3.3728,8.4151,0.2253,3.3462,0.3932,-2.0853,3.3067,9.1968,2.7285,-5.0244,7.4664,-3.3971,-1.8674,5.6047,-3.2414,-3.3397,-7.9541,-3.7469,4.7112,3.3913,0.3678,-1.7224,4.4655,-4.372,-1.4317,-8.2432,-0.5094,-2.0579,3.8795,7.4858,-3.7092,5.3677,2.1481,5.1241,5.0143,-9.8847,-6.0527,2.8346,2.7565,-0.9547,5.8797,-3.0935,6.52,-1.9176,-2.9,0.0414,-6.3099,-4.7071,-9.8664,-3.5725,-2.0043,-1.0608,-4.4614,9.2277,6.794,4.4475,-2.8803,3.5137,2.0737,4.239,9.9784,1.0885,7.1372,0.0667,-5.2342,-6.8206,-1.6093,-7.7996,-5.9478,-0.2413,0.7856,-0.2558,4.1365,0.4024,-4.4887,4.3132,-1.3337,0.2281,-1.238,6.2744,-5.2627,3.8927,-7.1362,-8.3262,0.9892,4.8627,-8.8194,9.6557,6.0951,8.5352,-5.6316,3.3848,2.3506,9.3972,-3.4804,1.1331,0.8776,-1.8097,7.7643,6.6715,2.093,6.1169,3.7253,-5.4837,-2.1427,-0.128,4.2227,6.7748,3.2631,-0.3208,-1.1981,-3.1186,8.7461,5.4167,-2.9663,-5.6978,5.2857,-0.5177,-5.0834,-3.868,7.3088,4.0048,0.5977,-3.6855,-2.2455,5.2798,6.8885,1.932,0.307,-3.7235,9.5782,1.9999,-0.8854,-1.9049,2.2146,0.7735,6.6772,-0.6708,8.4886,-1.365,-6.0109,7.3109,7.2047,0.8858,1.9461,1.2113,-2.3431,-6.2762,0.9372,-0.6539,5.352,-2.8444,-1.5266,-3.3601,-2.2652,1.8248,8.8908,1.4745,2.7595,-7.3927,-0.6985,7.0718,3.801,7.7271,-3.432,-0.7661,-0.7943,0.8982,-5.7961,3.8935,3.045,0.1874,-2.7092,6.9758,3.7519,-4.0276,4.8192,1.302,4.3801,1.9975,6.8831,-7.9732,-4.8814,1.6936,0.5147,7.8591,-0.2546,4.3099,3.0709,0.9992,1.4168,4.0388,-2.2821,-1.1511,2.6201,-1.4347,0.1356,1.906,2.6424,0.6182,-1.4664,4.4621,0.1257,8.2514,6.3065,-6.732,2.802,-1.706,1.3148,-6.1775,-6.0331,5.0898,-6.816,7.3489,-0.0113,-4.7829,-5.2828,5.8756,0.3819,-7.845,-5.6387,-7.0236,-9.738,-6.4059,4.9278,-9.308,4.9134,6.2334,-0.8529,-0.2737,0.1381,3.8059,3.7673,4.916,7.6485,6.4367,5.2633,8.0261,1.4396,0.2971,-4.086,4.7499,2.679,-0.105,-7.1375,6.6595,2.8673,2.3809,-0.6742,1.7991,2.0674,1.7375,4.777,2.9352,-6.1678,9.7581,5.1422,-1.4938,7.5972,-7.6587,6.1407,3.9971,0.6102,-0.5633,-4.9412,5.1203,-1.9129,5.9043,5.2401,9.8645,9.7151,-0.3125,1.8348,-3.75,-1.9918,-3.7466,-8.2902,-3.2438,1.0562,0.9672,1.7829,3.2774,0.0119,2.7343,1.5687,1.6682,1.1975,0.4385,-2.4394,0.6658,-5.6184,1.98,0.294,1.1726,1.1277,1.6521,1.9411,1.8285,2.5744,2.7111,-3.4164,2.3784,6.3444,-0.4606,-9.0708,-4.4841,-7.3921,-0.4257,-1.1517,-4.8067,0.7041,0.1615,-0.6171,0.9595,1.0759,-0.4454,-0.8723,-0.1667,-1.0896,-3.112,4.9511,3.0483,2.8871,2.9831,-0.389,1.0497,4.0226,1.0905,3.8417,2.9612,1.3385,-0.2711,-0.3939,0.7691,0.5965,0.3118,-2.8614,-0.4017,-1.7456,0.6972,0.8169,-0.5716,4.2099,5.0735,8.0606,0.8996,0.9501,-0.8799,-0.428,0.0285,-0.9758,-2.4411,-6.004,-3.6667,-1.0131,1.2175,4.4096,1.8188,1.0648,1.2514,-0.5185,-3.948,-2.7118,1.2381,1.7921,3.0293,5.2623,0.0222,1.4081,-5.6448,-1.1318,-1.1857,-0.1569,8.2093,4.0024,1.8312,8.6702,5.0154,1.0808,0.911,2.8953,2.9027,2.4785,6.7671,4.1326,-1.8632,4.263,1.6386,1.6925,0.8228,-0.7809,0.9823,-2.1651,-9.484,5.6457,4.6504,-0.7103,3.3626,-7.1169,-3.1097,2.1828,-2.459,2.7503,1.2293,-0.8412,8.6517,0.2341,-5.8999,-0.7675,-3.2428,-0.6411,1.6973,2.7842,-0.9046,5.7315,-8.7875,-4.8768,0.9301,0.745,0.0303,1.2885,0.6609,-6.0759,-0.4225,-3.9085,-2.9611,0.7403,1.0601,-1.9829,-3.0845,2.2462,1.1153,2.7606,-2.336,0.7674,0.8435,9.2308,-0.5208,2.4865,3.8039,-0.6591,0.0265,0.036,-0.4246,9.2576,6.4979,3.0869,-0.981,-1.071,-6.2791,1.1062,1.3369,0.0866,0.9189,-3.2587,3.1334,2.6644,2.5915,-1.3988,0.66,0.9343,0.6424,6.6778,0.3389,-0.0319,-0.4912,-1.2426,0.892,-0.8352,-0.929,1.8954,2.3012,2.8297,4.0184,3.3942,-9.5467,-0.5846,-1.0283,7.5076,3.3826,-3.2315,-0.8031,-2.9552,-4.6946,7.8923,0.3508,2.3576,0.5962,5.1709,0.8156,-4.4904,0.8107,-3.4417,-8.1338,6.7714,2.2547,2.3146,3.5786,4.3812,8.3177,-0.5876,-5.8638,-3.4191,1.7069,0.9731,2.68,9.2016,0.3351,6.5822,0.6518,-9.2618,-0.7294,-2.8348,-1.4014,4.8326,0.2835,3.6549,2.957,3.9198,0.7445,-3.3893,1.1653,2.0066,4.3446,2.5871,1.3621,5.0269,6.6604,1.9072,-0.6582,-2.0083,-1.53,-3.0794,-4.279,3.3464,2.9166,-1.7446,-0.8128,-2.176,3.998,1.2812,-3.3656,2.2369,-1.0098,0.4097,8.6399,0.4915,-1.6015,-2.905,-6.3794,-1.3168,-4.1048,-0.6557,1.1924,-4.5211,2.8026,2.3829,-1.8311,-0.5364,2.5987,3.5638,3.9067,-3.9462,-0.5528,3.0381,3.7027,8.5138,0.1301,0.9725,2.3621,3.2926,-3.7985,-1.1098,6.259,3.9944,1.7259,-1.6986,-4.6179,4.6597,-1.5945,-1.4593,4.5795,2.5837,2.9886,1.8035,2.9705,-1.8882,8.1794,9.4457,4.4322,6.5441,7.6188,1.1621,9.1698,6.4168,6.1407,-4.5194,0.8654,0.0124,3.5095,-5.7134,-4.8165,1.2456,-2.8583,7.1411,7.9752,7.7226,0.6379,2.0858,5.3633,1.4712,-8.9872,-5.5862,-8.6334,1.8709,2.2434,5.2059,4.3765,-3.8113,7.9574,-5.1398,-2.8098,9.1627,9.8112,3.4643,2.8242,7.1222,0.9906,1.8894,5.6384,-0.5801,4.3171,-5.3711,5.4548,-7.9612,-3.0382,-7.9405,5.799,3.0909,0.599,4.8851,9.7621,-1.7654,3.1068,2.3545,-0.7324,-3.511,2.5624,1.9393,9.525,5.4723,0.8097,6.5207,6.7638,6.3033,-6.1011,-0.5815,-6.4536,-6.4796,3.7154,-2.9179,-1.638,5.1669,4.6951],\"type\":\"box\"},{\"boxmean\":true,\"boxpoints\":\"outliers\",\"name\":\"04:00 - 10:00\",\"y\":[0.539,-4.6039,-8.9768,2.8094,0.6556,6.3447,-8.6066,-5.0214,8.5357,8.3574,-5.0983,-5.8244,9.3854,1.3516,-2.7271,7.9112,-6.8148,-4.7288,9.4611,-4.9776,0.4673,6.7256,4.1468,5.5432,6.1139,2.8049,2.5337,0.7407,5.5728,-5.5513,0.0559,3.5013,-5.7598,-5.3385,1.4347,0.0531,2.2627,-1.4415,1.4608,8.7245,8.3622,2.6155,-6.6973,-1.116,4.0311,0.1236,7.1441,-0.4366,-3.9356,7.4898,7.2778,4.0227,4.1413,3.634,-1.2919,-0.7953,-8.9522,-7.8927,-7.2966,3.462,3.5445,3.4018,2.1664,5.427,9.1974,3.1462,-3.8633,-1.0018,2.458,8.5269,-9.3192,-9.3396,5.736,-7.2792,-0.0532,-4.0749,-4.7704,-3.4807,9.8997,1.9066,1.259,-0.8731,-7.1548,4.3275,7.3395,-2.757,-3.1938,6.3708,2.2172,-7.0767,-8.9441,-3.724,1.9188,-6.9696,-1.3963,-0.1619,3.944,-1.69,5.9819,-8.7959,-9.6834,-6.8337,-3.7156,4.3874,-1.8569,5.1645,7.1184,-2.8691,-2.8724,1.5037,-9.3323,4.2102,1.5783,6.2801,0.4292,5.1968,3.0774,-4.9008,-4.7341,3.9371,1.9333,-1.8174,1.4329,-2.9849,2.8557,2.3512,-2.3999,-0.6472,1.5937,0.4405,-4.3439,-0.5479,1.6945,1.8356,1.4654,-6.5008,8.0887,2.3311,5.8526,-8.5786,4.0019,9.0827,8.7048,-0.3023,-0.1458,7.8134,0.824,6.4262,-9.192,-8.55,-0.9838,6.3096,3.1273,-2.1253,-3.3059,-5.8568,5.0328,5.262,0.8486,-8.9487,-7.6944,0.9148,4.7009,-6.3647,-4.4697,3.3223,-2.5508,0.3493,-3.0485,-4.1574,-5.4461,5.7024,-8.165,9.2936,-5.0434,-4.1285,8.2216,2.1904,2.309,2.0733,4.0697,-5.042,-3.5156,-4.3475,-3.0987,-3.9663,-1.8017,-1.3128,3.2601,2.2471,1.4062,2.2667,2.0719,4.6812,2.9823,-7.8529,-1.4855,-4.1564,-8.0843,2.2895,4.5232,7.5075,1.5614,4.1231,-6.3509,-1.3408,-0.1487,5.1228,0.2993,-6.8386,-1.2363,4.5846,4.85,1.6546,4.7232,-3.8337,-0.5965,5.3697,6.5285,0.1874,-0.0129,-5.0908,-6.6225,-2.4576,-1.2698,7.6353,8.8939,0.9378,2.275,-0.6146,8.2034,0.0934,1.7759,7.1479,4.131,2.0922,8.3061,-3.5975,-1.0917,0.2913,0.6516,0.5289,6.9531,-5.0693,-0.4505,-3.3155,-0.908,-0.5354,8.8189,-7.2378,8.6185,-5.0127,-4.7522,1.701,1.5934,-6.8591,0.0874,-3.5078,2.9076,7.9754,7.6674,5.8214,-9.4759,5.3416,7.0634,-2.5183,3.0779,2.0837,1.9646,1.8664,1.3373,2.3358,3.7341,-0.0848,-5.1609,5.4592,5.3349,2.9716,2.9397,-0.1383,5.5404,8.579,-3.2733,-3.4356,-0.8136,1.6254,5.8066,5.3321,4.4976,4.1791,3.4412,-7.9546,7.8297,0.877,0.469,5.164,-0.4689,-2.5556,-2.8067,3.1217,-8.9227,-4.8649,-6.2735,7.3483,2.2259,1.1349,-3.2469,2.495,-2.7542,9.6949,-0.7071,1.6694,5.5128,-0.7552,-1.7255,-1.8398,-4.2449,7.5806,-1.8929,-0.4289,2.369,1.6082,-2.2745,-2.3839,-3.1545,6.7684,-0.062,-1.8239,-3.9132,8.847,1.5835,0.2854,4.8681,-3.1589,6.1149,-5.9687,-5.384,-3.7469,-2.2074,4.0354,-0.7204,-7.5178,6.9987,-1.1795,4.9161,4.9191,0.856,4.9861,6.81,5.4104,-4.4283,-0.5604,4.8066,-5.3555,-6.5284,1.9702,0.9784,6.5088,8.4244,-3.0919,2.2962,5.0143,4.9526,8.4373,6.8534,5.811,0.3091,0.6813,6.0727,0.9569,-7.861,-3.0914,-3.1317,-7.883,6.4926,7.436,4.392,-6.1193,8.6037,-1.2878,4.0879,8.637,-1.7239,0.8112,-5.0078,-2.9551,2.4474,3.3937,-7.725,1.0803,9.9287,3.8489,1.4277,3.0781,6.9269,-8.6339,6.3179,-6.9357,2.4948,8.4804,7.2451,-8.4784,6.5656,1.2416,-5.0333,-4.0209,9.5908,-6.6508,2.9292,2.042,2.0068,-6.5098,0.157,0.4288,2.9818,2.2352,2.1097,2.0288,2.2656,-0.0525,3.2096,-1.5335,-1.0301,0.867,4.0695,1.2379,-4.7002,-4.3778,-0.9303,-6.4956,-6.0172,-3.6315,1.8982,-2.0049,2.8857,3.1776,3.0568,4.7928,-3.1788,-6.1889,0.4894,-0.0423,-1.844,4.499,-5.4322,-6.6859,4.9735,-8.2687,4.6068,0.5861,3.7496,3.8264,-9.2641,3.8281,7.717,7.4851,7.8173,8.6275,-0.364,-3.594,8.2844,-1.8002,2.265,0.2628,-3.0368,-2.8937,8.336,6.3305,3.4857,0.8799,-8.9858,4.3543,3.2951,5.5613,2.3247,0.8053,0.9426,-0.8088,-0.1938,0.0287,-2.4043,0.0088,-0.4085,2.888,-5.8061,8.9394,9.6426,3.8643,0.4372,6.9564,-1.6105,4.3333,-2.9488,6.0975,-1.9769,8.937,2.3707,-2.5899,-3.18,-1.3758,-1.6336,9.2973,-5.1195,4.6063,3.5363,3.0951,-6.8089,0.1955,-0.1385,9.1602,9.1581,1.5302,4.1071,4.7671,0.7753,-0.7287,0.8243,-9.4893,-6.2671,-8.1889,1.9855,-9.9626,7.6453,3.7859,-0.4174,0.8949,-3.1131,1.1024,-5.2075,-1.5164,4.0267,-0.2373,-5.4235,8.618,5.0283,8.7392,8.1254,-9.956,-5.7618,-0.2295,-3.5439,-5.6098,-8.6718,2.4343,-1.9711,8.5789,-1.3214,5.0731,3.1726,6.451,9.1486,9.2472,0.7847,2.794,7.6053,-3.4359,-2.6527,-3.681,2.8675,-4.6702,0.9766,-1.6651,-0.23,-9.9092,2.1126,5.8686,-3.022,3.4431,2.6074,-5.9148,-0.4417,-1.1016,4.9556,3.3051,1.3771,-2.4564,6.6636,-3.0591,0.6079,2.8876,6.2655,-0.4453,-0.4414,-1.0145,-2.1766,-3.046,-3.6657,-8.3558,9.1986,-1.983,8.4633,-1.6714,1.0771,-8.5244,-8.8251,7.6172,7.7624,-4.7744,1.787,1.5314,0.225,2.1331,7.466,7.5426,6.682,-3.2113,4.4713,-0.8548,-2.8142,9.4185,-1.9875,2.7302,3.2503,4.0803,8.4224,6.5024,-8.1391,-0.6462,-1.8619,-1.0217,-3.7815,-8.3964,-2.5985,1.8351,0.0513,5.3021,-2.3535,7.7025,9.8513,0.8784,-5.6874,3.6261,-4.5448,9.3024,5.7598,2.494,2.3455,2.3793,5.2527,-0.8425,2.8917,2.5984,0.6481,7.4631,-1.3723,-3.1185,1.572,9.3961,7.0343,-5.8157,-9.928,9.6571,-4.2499,5.1103,0.0328,8.8503,-8.224,-5.9348,-0.9279,-3.4922,7.8372,5.4849,4.5193,-1.8728,-2.4948,6.808,-4.7884,9.1453,1.4993,-1.9768,-1.1074,-0.5294,-2.0911,9.0198,2.5866,-3.7909,-5.8885,-5.5617,0.3212,5.5919,-6.2094,-3.6512,-2.3356,3.2332,-4.9765,-4.7902,-6.4432,-8.3133,1.0577,3.8274,9.5924,-4.1288,1.9601,3.3169,-2.5188,-2.5418,6.9475,1.3177,-1.23,-2.5118,-0.8862,-6.2558,-3.0121,-4.039,2.99,5.8663,3.1476,2.9023,-5.7834,-0.5635,-0.4527,4.2209,1.8949,-0.7568,-3.7994,1.1093,9.6674,-1.3096,4.533,9.6163,1.1397,0.7271,-1.0762,5.6435,-7.8679,1.4365,7.8094,-0.6489,-1.5486,-3.2322,-3.982,-0.7958,-3.7201,3.5715,-0.1889,-3.6254,-7.2222,-4.9238,2.6405,-8.1612,3.9985,3.5105,-0.9092,-2.2754,-1.6057,1.4368,4.8299,1.0948,1.9178,-3.6229,-1.0834,-2.0162,-1.3093,7.7597,6.1819,7.532,5.8709,3.6731],\"type\":\"box\"},{\"boxmean\":true,\"boxpoints\":\"outliers\",\"name\":\"10:00 - 16:00\",\"y\":[6.1405,1.7451,-0.2016,-1.1143,-2.4055,5.0364,-2.2593,1.9829,-0.992,-1.5719,-3.0957,3.5765,1.9267,7.7455,8.7512,1.3776,-8.5486,-1.8813,9.076,6.2975,6.2671,3.8176,3.2096,6.6549,-0.8606,2.8498,5.9121,6.7794,-5.9692,-3.6611,7.708,4.3542,2.9921,2.5086,-6.5179,-9.6219,-2.8895,-8.2733,1.7871,-0.7593,-4.8011,1.9579,-2.6093,-1.0319,-3.7387,-7.7198,6.7099,-8.51,-1.4885,0.3682,-8.283,6.2416,6.9921,-1.5803,9.8092,7.8455,4.8146,7.8922,-4.8401,1.7707,-2.4984,6.7027,5.4941,5.7265,3.8591,9.622,-3.4055,2.3951,-8.7176,2.5622,1.441,-7.0916,-4.1612,6.3515,1.0133,6.3854,3.9099,3.8773,-8.9903,-4.8319,4.9199,-9.7132,2.3594,3.0459,3.3582,-3.2905,-3.9012,4.0225,1.938,5.5745,1.6699,2.7551,-6.0608,2.5712,-2.8761,6.4344,4.6648,-9.0297,0.2696,-6.5915,1.8728,1.8069,2.4372,7.0653,2.43,5.0491,2.6057,8.7248,1.0457,3.9475,7.3378,8.824,-0.4344,-3.946,-5.865,-6.2126,0.5093,-3.5551,8.2627,-4.612,2.4457,1.6171,2.9053,-3.2495,6.1898,4.8883,-4.0076,-3.699,-8.6728,-0.6413,7.8233,0.2901,-4.4718,0.4106,1.5185,6.1909,-3.8103,-5.425,-6.6892,4.8856,4.0533,8.7958,3.6581,-6.8862,-0.5591,9.7101,6.3367,1.3646,-0.4749,-3.1572,4.5644,3.3443,-1.5629,3.5897,-8.0166,4.2411,6.8124,5.9142,0.8239,5.7039,7.6877,-3.632,0.4551,-3.0881,-7.383,-5.9705,-7.5932,-5.8003,0.1276,5.4129,0.5619,-2.3148,7.3576,-1.4534,7.463,2.9007,6.4998,-3.5262,6.5988,1.6424,-1.135,-4.0956,4.7672,5.4375,-1.9825,-4.5598,-0.2205,-3.6073,-9.6983,7.2557,7.3073,6.4301,-9.8857,4.6769,9.1901,-1.8506,0.9044,-4.7481,-2.7297,-5.1174,3.3086,9.0112,7.0123,-1.0716,3.4362,-5.9612,0.769,-5.1071,5.4999,3.2278,7.71,0.4023,-5.3744,0.3233,-6.4614,-4.7778,3.1129,-3.4261,4.6776,-1.9973,-6.298,8.199,4.6894,1.172,-3.8614,4.2724,-3.308,5.7359,-6.6418,-1.6613,-5.8897,-4.6133,9.5012,-2.353,-7.3364,3.4691,-6.1911,5.0232,2.6505,1.9389,2.9775,3.7684,7.0283,9.2937,-4.3016,-8.1152,-7.276,2.8262,2.6393,-2.4344,-4.5722,3.0953,-6.3736,-7.6539,4.9963,0.2174,-5.3838,3.9976,-1.6692,-6.6914,1.7282,-1.7598,8.8611,0.5343,-6.5083,-9.6822,-8.851,-8.2118,-8.1246,-2.8709,1.3163,1.4056,5.6914,0.0803,0.3914,-8.3801,-7.5393,9.3971,0.5969,-4.7212,-6.2599,8.6201,2.166,-5.1334,5.074,-9.4776,0.7721,-3.4865,6.631,-0.034,8.8825,2.0191,3.4118,3.984,-1.541,-7.1455,-8.5727,-0.8,0.7534,3.3435,-0.8371,-7.7953,-6.2115,-0.53,-1.0294,-9.5841,5.9779,-1.4572,-7.419,-2.2192,5.2376,4.9481,1.3809,3.9508,-7.4063,6.1247,7.285,-6.4646,3.6029,5.7625,7.8969,2.8269,-0.404,0.3091,-4.0561,7.6998,8.5645,-1.4478,-4.0956,1.1302,0.6693,-7.2997,4.8586,8.393,1.96,-2.3269,-8.9323,3.1875,9.8054,-9.8019,5.7453,2.861,8.9975,4.4356,3.1553,-5.265,2.0989,0.5878,9.8077,2.2912,6.3826,5.1084,-3.7765,-0.776,-3.5645,6.2923,4.9128,-1.9685,4.5074,-8.0673,4.4101,2.6513,-3.7156,5.4852,-1.4488,4.9131,0.7531,4.7661,-2.2823,-1.7486,0.1749,-3.7764,1.6614,-4.0092,-6.2466,-8.3592,8.0145,8.6299,-0.7571,0.2484,-0.7637,-0.7292,7.5144,-4.6383,-5.9259,-5.3445,7.3961,3.9557,9.6773,8.7445,-1.1549,1.2052,-6.1267,2.2317,5.659,-2.9488,1.3628,-1.1006,-2.2575,-3.6729,0.6054,-3.1387,9.0737,3.8632,-8.3454,6.3391,-3.4978,9.7017,-0.8476,4.7387,4.635,6.5703,-6.7326,-2.412,-3.3072,-3.3352,-3.4361,2.3734,9.5457,4.2344,-5.0855,-0.6298,7.6655,-0.4594,3.469,2.5131,2.0556,3.3383,1.047,4.1151,0.4661,-5.09,0.5577,-2.6772,5.5537,-4.4126,-4.7033,9.245,-6.4189,3.7099,-1.4894,4.5602,-1.534,-0.712,-7.2673,-0.3829,3.9152,1.6284,8.3626,0.7001,1.0709,3.5513,4.7966,4.2259,7.7967,3.7857,2.4578,7.0463,-2.3182,2.6694,-7.4071,7.8192,3.3919,7.076,5.1452,-5.9755,8.5055,-9.0842,-2.6755,7.2167,-1.8945,4.4101,4.0589,5.5189,-4.1452,8.7008,-5.6396,8.7448,-5.6448,-5.6861,4.6112,3.4504,-6.6375,-6.8238,-4.2757,-0.3886,-1.7692,-9.2429,-8.2952,9.1716,-1.9408,3.9786,3.593,-2.4322,7.7918,2.6495,0.0582,4.0834,-0.401,4.0174,7.4373,-2.1595,1.1738,2.0571,-3.8574,-3.0945,0.7582,-9.2685,7.9082,4.904,-4.6047,7.3726,-1.9227,-2.6759,1.7457,7.2426,-2.4382,3.6314,8.1905,-1.4777,1.7109,2.0496,-3.4513,-3.7457,-2.8407,-6.337,0.4553,-2.1348,-3.2079,-6.9445,-2.2463,1.9448,6.0984,4.2746,1.6634,-6.096,-1.1052,1.8974,2.1043,-4.8581,-3.3503,3.079,0.49,-2.7308,-4.3626,-2.835,1.4223,-0.0179,-0.2374,4.6141,0.0194,9.2397,7.5472,-0.0101,-5.872,9.6706,1.0013,3.0184,-6.6998,-1.7861,-2.9864,-2.8883,6.0484,-6.5055,9.9269,9.7405,3.9572,-6.3117,0.8671,0.6476,0.5101,2.4399,3.5072,3.1337,-8.7084,-6.056,0.4664,2.2753,1.6037,-3.7871,-0.3561,7.451,-3.7357,-4.5995,6.4742,9.7762,3.2597,-1.0211,8.3943,0.2208,0.5177,-2.9678,6.5865,2.694,7.8205,4.8119,-2.8427,0.2468,2.2015,2.5883,5.5018,-4.0516,-2.6684,4.6434,1.5027,-2.4726,-3.5678,6.1205,-4.7463,-0.3705,3.9838,6.8923,0.1022,3.1438,-8.0118,-2.4926,-0.9721,3.3498,-5.0388,-0.4028,4.0784,5.6083,-2.8131,-0.3979,-0.6494,-0.336,0.0026,-1.5652,-6.5789,2.9264,9.5629,6.2058,1.7902,9.4675,7.1731,-7.5301,1.1278,8.6789,4.3923,8.0632,7.2296,-6.4593,6.3839,4.9629,2.1117,6.0354,3.5017,4.27,-2.6763,-3.5356,-1.7377,5.287,5.2739,5.161,-1.8404,6.1492,9.4456,9.1394,-1.6905,2.0805,-0.3973,-5.1142,-2.068,0.9222,3.2454,2.6704,1.6761,-1.6299,5.997,0.7642,2.3882,-1.6014,6.1431,3.5654,7.8121,-0.4796,-1.1784,0.439,0.6048,-2.7835,-0.9356,1.8286,2.3361,7.2874,3.6937,-0.4774,-4.1335,-5.5753,-2.0935,-2.9498,-6.7969,7.4547,-4.6542,6.4638,3.3455,2.7168,3.3996,-0.0199,-1.9158,0.5024,-5.9276,-0.1452,0.245,0.4969,0.333,-5.7402,4.6056,-4.1369,-2.9063,-0.5335,-0.3645,-3.5221,-3.6848,-2.4698,-2.2634,-1.1252,-5.5913,-0.9772,2.8259,-1.6553,8.3753,9.5818,2.9812,7.3162,-1.6404,-3.4445,-0.5594,-5.5624,2.3376,-3.8816,1.3445,2.8453,7.4467,-2.0008,-2.1015,-1.2793,1.1912,-1.0235,-5.971,-6.2806,3.4813,-5.1058,-1.1574,9.3165,5.1068,-7.431,-7.4413,4.7,-1.0154,4.0776,1.2397,-2.6592,6.2016,9.3943,1.7952,1.203,9.0849,-8.8761,1.763,-4.7941,-6.0692,-6.8776,-7.9527,1.624,-8.0531,6.8155,-2.2212,-2.0735,3.3717,-3.2379,3.7488,2.2893,4.909,-5.5011,-6.4133,0.1415,2.2363,-2.7015,-1.6971,2.72,1.836,2.1339,-9.5608,0.6267,6.792,4.8327,-1.0604,0.3418,0.6792,4.726,-3.5755,-2.8988,0.6064,4.0479,-0.4189,2.2466,4.7884,7.9238,7.6891,-0.5056,-0.4932,3.9041,0.3406,-4.3989,5.0201,5.9479,-3.3446,-9.7879,4.8266,1.4998,7.6758,-1.3211,7.6761,8.0771,-8.9382,-0.506,4.4086,6.6806,1.9771,3.3595,2.7185,1.238,-7.3678,5.9657,2.7546,-4.4547,6.9763,-3.1867,-1.3851,1.6548,5.7965,-1.5791,-2.082,-9.0904,-0.592,-9.3106,-5.4875,0.1073,1.9468,2.4754,0.7505,7.0873,3.5632,1.4,-2.5078,9.0199,-8.0894,9.8793,-2.5636,1.3951,9.9404,6.9349],\"type\":\"box\"}],                        {\"template\":{\"data\":{\"bar\":[{\"error_x\":{\"color\":\"#2a3f5f\"},\"error_y\":{\"color\":\"#2a3f5f\"},\"marker\":{\"line\":{\"color\":\"#E5ECF6\",\"width\":0.5},\"pattern\":{\"fillmode\":\"overlay\",\"size\":10,\"solidity\":0.2}},\"type\":\"bar\"}],\"barpolar\":[{\"marker\":{\"line\":{\"color\":\"#E5ECF6\",\"width\":0.5},\"pattern\":{\"fillmode\":\"overlay\",\"size\":10,\"solidity\":0.2}},\"type\":\"barpolar\"}],\"carpet\":[{\"aaxis\":{\"endlinecolor\":\"#2a3f5f\",\"gridcolor\":\"white\",\"linecolor\":\"white\",\"minorgridcolor\":\"white\",\"startlinecolor\":\"#2a3f5f\"},\"baxis\":{\"endlinecolor\":\"#2a3f5f\",\"gridcolor\":\"white\",\"linecolor\":\"white\",\"minorgridcolor\":\"white\",\"startlinecolor\":\"#2a3f5f\"},\"type\":\"carpet\"}],\"choropleth\":[{\"colorbar\":{\"outlinewidth\":0,\"ticks\":\"\"},\"type\":\"choropleth\"}],\"contour\":[{\"colorbar\":{\"outlinewidth\":0,\"ticks\":\"\"},\"colorscale\":[[0.0,\"#0d0887\"],[0.1111111111111111,\"#46039f\"],[0.2222222222222222,\"#7201a8\"],[0.3333333333333333,\"#9c179e\"],[0.4444444444444444,\"#bd3786\"],[0.5555555555555556,\"#d8576b\"],[0.6666666666666666,\"#ed7953\"],[0.7777777777777778,\"#fb9f3a\"],[0.8888888888888888,\"#fdca26\"],[1.0,\"#f0f921\"]],\"type\":\"contour\"}],\"contourcarpet\":[{\"colorbar\":{\"outlinewidth\":0,\"ticks\":\"\"},\"type\":\"contourcarpet\"}],\"heatmap\":[{\"colorbar\":{\"outlinewidth\":0,\"ticks\":\"\"},\"colorscale\":[[0.0,\"#0d0887\"],[0.1111111111111111,\"#46039f\"],[0.2222222222222222,\"#7201a8\"],[0.3333333333333333,\"#9c179e\"],[0.4444444444444444,\"#bd3786\"],[0.5555555555555556,\"#d8576b\"],[0.6666666666666666,\"#ed7953\"],[0.7777777777777778,\"#fb9f3a\"],[0.8888888888888888,\"#fdca26\"],[1.0,\"#f0f921\"]],\"type\":\"heatmap\"}],\"heatmapgl\":[{\"colorbar\":{\"outlinewidth\":0,\"ticks\":\"\"},\"colorscale\":[[0.0,\"#0d0887\"],[0.1111111111111111,\"#46039f\"],[0.2222222222222222,\"#7201a8\"],[0.3333333333333333,\"#9c179e\"],[0.4444444444444444,\"#bd3786\"],[0.5555555555555556,\"#d8576b\"],[0.6666666666666666,\"#ed7953\"],[0.7777777777777778,\"#fb9f3a\"],[0.8888888888888888,\"#fdca26\"],[1.0,\"#f0f921\"]],\"type\":\"heatmapgl\"}],\"histogram\":[{\"marker\":{\"pattern\":{\"fillmode\":\"overlay\",\"size\":10,\"solidity\":0.2}},\"type\":\"histogram\"}],\"histogram2d\":[{\"colorbar\":{\"outlinewidth\":0,\"ticks\":\"\"},\"colorscale\":[[0.0,\"#0d0887\"],[0.1111111111111111,\"#46039f\"],[0.2222222222222222,\"#7201a8\"],[0.3333333333333333,\"#9c179e\"],[0.4444444444444444,\"#bd3786\"],[0.5555555555555556,\"#d8576b\"],[0.6666666666666666,\"#ed7953\"],[0.7777777777777778,\"#fb9f3a\"],[0.8888888888888888,\"#fdca26\"],[1.0,\"#f0f921\"]],\"type\":\"histogram2d\"}],\"histogram2dcontour\":[{\"colorbar\":{\"outlinewidth\":0,\"ticks\":\"\"},\"colorscale\":[[0.0,\"#0d0887\"],[0.1111111111111111,\"#46039f\"],[0.2222222222222222,\"#7201a8\"],[0.3333333333333333,\"#9c179e\"],[0.4444444444444444,\"#bd3786\"],[0.5555555555555556,\"#d8576b\"],[0.6666666666666666,\"#ed7953\"],[0.7777777777777778,\"#fb9f3a\"],[0.8888888888888888,\"#fdca26\"],[1.0,\"#f0f921\"]],\"type\":\"histogram2dcontour\"}],\"mesh3d\":[{\"colorbar\":{\"outlinewidth\":0,\"ticks\":\"\"},\"type\":\"mesh3d\"}],\"parcoords\":[{\"line\":{\"colorbar\":{\"outlinewidth\":0,\"ticks\":\"\"}},\"type\":\"parcoords\"}],\"pie\":[{\"automargin\":true,\"type\":\"pie\"}],\"scatter\":[{\"marker\":{\"colorbar\":{\"outlinewidth\":0,\"ticks\":\"\"}},\"type\":\"scatter\"}],\"scatter3d\":[{\"line\":{\"colorbar\":{\"outlinewidth\":0,\"ticks\":\"\"}},\"marker\":{\"colorbar\":{\"outlinewidth\":0,\"ticks\":\"\"}},\"type\":\"scatter3d\"}],\"scattercarpet\":[{\"marker\":{\"colorbar\":{\"outlinewidth\":0,\"ticks\":\"\"}},\"type\":\"scattercarpet\"}],\"scattergeo\":[{\"marker\":{\"colorbar\":{\"outlinewidth\":0,\"ticks\":\"\"}},\"type\":\"scattergeo\"}],\"scattergl\":[{\"marker\":{\"colorbar\":{\"outlinewidth\":0,\"ticks\":\"\"}},\"type\":\"scattergl\"}],\"scattermapbox\":[{\"marker\":{\"colorbar\":{\"outlinewidth\":0,\"ticks\":\"\"}},\"type\":\"scattermapbox\"}],\"scatterpolar\":[{\"marker\":{\"colorbar\":{\"outlinewidth\":0,\"ticks\":\"\"}},\"type\":\"scatterpolar\"}],\"scatterpolargl\":[{\"marker\":{\"colorbar\":{\"outlinewidth\":0,\"ticks\":\"\"}},\"type\":\"scatterpolargl\"}],\"scatterternary\":[{\"marker\":{\"colorbar\":{\"outlinewidth\":0,\"ticks\":\"\"}},\"type\":\"scatterternary\"}],\"surface\":[{\"colorbar\":{\"outlinewidth\":0,\"ticks\":\"\"},\"colorscale\":[[0.0,\"#0d0887\"],[0.1111111111111111,\"#46039f\"],[0.2222222222222222,\"#7201a8\"],[0.3333333333333333,\"#9c179e\"],[0.4444444444444444,\"#bd3786\"],[0.5555555555555556,\"#d8576b\"],[0.6666666666666666,\"#ed7953\"],[0.7777777777777778,\"#fb9f3a\"],[0.8888888888888888,\"#fdca26\"],[1.0,\"#f0f921\"]],\"type\":\"surface\"}],\"table\":[{\"cells\":{\"fill\":{\"color\":\"#EBF0F8\"},\"line\":{\"color\":\"white\"}},\"header\":{\"fill\":{\"color\":\"#C8D4E3\"},\"line\":{\"color\":\"white\"}},\"type\":\"table\"}]},\"layout\":{\"annotationdefaults\":{\"arrowcolor\":\"#2a3f5f\",\"arrowhead\":0,\"arrowwidth\":1},\"autotypenumbers\":\"strict\",\"coloraxis\":{\"colorbar\":{\"outlinewidth\":0,\"ticks\":\"\"}},\"colorscale\":{\"diverging\":[[0,\"#8e0152\"],[0.1,\"#c51b7d\"],[0.2,\"#de77ae\"],[0.3,\"#f1b6da\"],[0.4,\"#fde0ef\"],[0.5,\"#f7f7f7\"],[0.6,\"#e6f5d0\"],[0.7,\"#b8e186\"],[0.8,\"#7fbc41\"],[0.9,\"#4d9221\"],[1,\"#276419\"]],\"sequential\":[[0.0,\"#0d0887\"],[0.1111111111111111,\"#46039f\"],[0.2222222222222222,\"#7201a8\"],[0.3333333333333333,\"#9c179e\"],[0.4444444444444444,\"#bd3786\"],[0.5555555555555556,\"#d8576b\"],[0.6666666666666666,\"#ed7953\"],[0.7777777777777778,\"#fb9f3a\"],[0.8888888888888888,\"#fdca26\"],[1.0,\"#f0f921\"]],\"sequentialminus\":[[0.0,\"#0d0887\"],[0.1111111111111111,\"#46039f\"],[0.2222222222222222,\"#7201a8\"],[0.3333333333333333,\"#9c179e\"],[0.4444444444444444,\"#bd3786\"],[0.5555555555555556,\"#d8576b\"],[0.6666666666666666,\"#ed7953\"],[0.7777777777777778,\"#fb9f3a\"],[0.8888888888888888,\"#fdca26\"],[1.0,\"#f0f921\"]]},\"colorway\":[\"#636efa\",\"#EF553B\",\"#00cc96\",\"#ab63fa\",\"#FFA15A\",\"#19d3f3\",\"#FF6692\",\"#B6E880\",\"#FF97FF\",\"#FECB52\"],\"font\":{\"color\":\"#2a3f5f\"},\"geo\":{\"bgcolor\":\"white\",\"lakecolor\":\"white\",\"landcolor\":\"#E5ECF6\",\"showlakes\":true,\"showland\":true,\"subunitcolor\":\"white\"},\"hoverlabel\":{\"align\":\"left\"},\"hovermode\":\"closest\",\"mapbox\":{\"style\":\"light\"},\"paper_bgcolor\":\"white\",\"plot_bgcolor\":\"#E5ECF6\",\"polar\":{\"angularaxis\":{\"gridcolor\":\"white\",\"linecolor\":\"white\",\"ticks\":\"\"},\"bgcolor\":\"#E5ECF6\",\"radialaxis\":{\"gridcolor\":\"white\",\"linecolor\":\"white\",\"ticks\":\"\"}},\"scene\":{\"xaxis\":{\"backgroundcolor\":\"#E5ECF6\",\"gridcolor\":\"white\",\"gridwidth\":2,\"linecolor\":\"white\",\"showbackground\":true,\"ticks\":\"\",\"zerolinecolor\":\"white\"},\"yaxis\":{\"backgroundcolor\":\"#E5ECF6\",\"gridcolor\":\"white\",\"gridwidth\":2,\"linecolor\":\"white\",\"showbackground\":true,\"ticks\":\"\",\"zerolinecolor\":\"white\"},\"zaxis\":{\"backgroundcolor\":\"#E5ECF6\",\"gridcolor\":\"white\",\"gridwidth\":2,\"linecolor\":\"white\",\"showbackground\":true,\"ticks\":\"\",\"zerolinecolor\":\"white\"}},\"shapedefaults\":{\"line\":{\"color\":\"#2a3f5f\"}},\"ternary\":{\"aaxis\":{\"gridcolor\":\"white\",\"linecolor\":\"white\",\"ticks\":\"\"},\"baxis\":{\"gridcolor\":\"white\",\"linecolor\":\"white\",\"ticks\":\"\"},\"bgcolor\":\"#E5ECF6\",\"caxis\":{\"gridcolor\":\"white\",\"linecolor\":\"white\",\"ticks\":\"\"}},\"title\":{\"x\":0.05},\"xaxis\":{\"automargin\":true,\"gridcolor\":\"white\",\"linecolor\":\"white\",\"ticks\":\"\",\"title\":{\"standoff\":15},\"zerolinecolor\":\"white\",\"zerolinewidth\":2},\"yaxis\":{\"automargin\":true,\"gridcolor\":\"white\",\"linecolor\":\"white\",\"ticks\":\"\",\"title\":{\"standoff\":15},\"zerolinecolor\":\"white\",\"zerolinewidth\":2}}}},                        {\"responsive\": true}                    ).then(function(){\n",
              "                            \n",
              "var gd = document.getElementById('8817f831-31bb-48b9-a5a8-ee68df2e5000');\n",
              "var x = new MutationObserver(function (mutations, observer) {{\n",
              "        var display = window.getComputedStyle(gd).display;\n",
              "        if (!display || display === 'none') {{\n",
              "            console.log([gd, 'removed!']);\n",
              "            Plotly.purge(gd);\n",
              "            observer.disconnect();\n",
              "        }}\n",
              "}});\n",
              "\n",
              "// Listen for the removal of the full notebook cells\n",
              "var notebookContainer = gd.closest('#notebook-container');\n",
              "if (notebookContainer) {{\n",
              "    x.observe(notebookContainer, {childList: true});\n",
              "}}\n",
              "\n",
              "// Listen for the clearing of the current output cell\n",
              "var outputEl = gd.closest('.output');\n",
              "if (outputEl) {{\n",
              "    x.observe(outputEl, {childList: true});\n",
              "}}\n",
              "\n",
              "                        })                };                            </script>        </div>\n",
              "</body>\n",
              "</html>"
            ]
          },
          "metadata": {}
        }
      ],
      "source": [
        "fig = go.Figure()\n",
        "fig.add_trace(go.Box(y=cvr_tg1, boxmean=True, boxpoints='outliers', name='16:00 - 22:00'))\n",
        "fig.add_trace(go.Box(y=cvr_tg2, boxmean=True, boxpoints='outliers', name='22:00 - 04:00'))\n",
        "fig.add_trace(go.Box(y=cvr_tg3, boxmean=True, boxpoints='outliers', name='04:00 - 10:00'))\n",
        "fig.add_trace(go.Box(y=cvr_tg4, boxmean=True, boxpoints='outliers', name='10:00 - 16:00'))\n",
        "fig.show()"
      ]
    },
    {
      "cell_type": "markdown",
      "source": [
        "The CVR factors shown above falls within the range of 0.65 - 1.5 as expected. Group 1 has the highest CVRf values at 0.97 as expected. This implies that the evening period (peak power consumption) will provide the highest CVR benefits. Thus 1% reduction in voltage will result in approx. 1% reduction in power."
      ],
      "metadata": {
        "id": "vGnkuC9SKboR"
      }
    },
    {
      "cell_type": "markdown",
      "source": [
        "### Load profile seasonality\n",
        "Theoretically, there should be a seasonality in daily consumption of power accross one week. From this diagram, we wan observe the peak power consumption periods. For the month of December"
      ],
      "metadata": {
        "id": "yJBirM--MReZ"
      }
    },
    {
      "cell_type": "code",
      "source": [
        "ront_dec = ront_df['2020-12-01 00:00:00+00:00':'2020-12-31 23:59:00+00:00']\n",
        "dec_df = ront_dec.resample('H').mean()\n",
        "week1 = dec_df['2020-12-01 00:00:00+00:00':'2020-12-07 23:59:00+00:00']\n",
        "week1['dayofweek'] = week1.index.day_name()\n",
        "fig, ax = plt.subplots(figsize=(16,8))\n",
        "sns.lineplot(x=week1.index, y='P_1', hue='dayofweek', data=week1)\n",
        "ax.grid()"
      ],
      "metadata": {
        "colab": {
          "base_uri": "https://localhost:8080/",
          "height": 636
        },
        "id": "PDWWmivZNcBF",
        "outputId": "9b8d7d86-8a44-45da-f5ad-544ae9e0fbd8"
      },
      "execution_count": 90,
      "outputs": [
        {
          "output_type": "stream",
          "name": "stderr",
          "text": [
            "/usr/local/lib/python3.7/dist-packages/ipykernel_launcher.py:4: SettingWithCopyWarning:\n",
            "\n",
            "\n",
            "A value is trying to be set on a copy of a slice from a DataFrame.\n",
            "Try using .loc[row_indexer,col_indexer] = value instead\n",
            "\n",
            "See the caveats in the documentation: https://pandas.pydata.org/pandas-docs/stable/user_guide/indexing.html#returning-a-view-versus-a-copy\n",
            "\n"
          ]
        },
        {
          "output_type": "display_data",
          "data": {
            "image/png": "[encoded data removed]",
            "text/plain": [
              "<Figure size 1152x576 with 1 Axes>"
            ]
          },
          "metadata": {
            "needs_background": "light"
          }
        }
      ]
    },
    {
      "cell_type": "markdown",
      "source": [
        ""
      ],
      "metadata": {
        "id": "7AWSeRFLVzIC"
      }
    }
  ]
}